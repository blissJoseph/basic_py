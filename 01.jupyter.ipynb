{
 "cells": [
  {
   "cell_type": "markdown",
   "id": "01603e62-a1c0-43ac-b07b-1bf85cd13420",
   "metadata": {
    "tags": []
   },
   "source": [
    "## jupyter notebook"
   ]
  },
  {
   "cell_type": "markdown",
   "id": "288bbc15-79b6-430f-83ae-5c4dbf12fce2",
   "metadata": {
    "tags": []
   },
   "source": [
    "- mode\n",
    "    - 명령모드(esc) : 셀을 수정할 때 사용\n",
    "    - 편집모드(enter) : 셀 안의 내용을 수정할 때 사용\n",
    "- style\n",
    "    - markdown(명령모드 + m) : 셀 안에 설명을 작성할 때 사용\n",
    "    - code(명령모드 + y) : 파이썬 코드를 작성할 때\n",
    "- 단축키\n",
    "    - 셀 실행 : shift + enter\n",
    "    - 셀 삭제 : (명령모드) x\n",
    "    - 되돌리기 : (명령모드) z\n",
    "    - 셀 생성 : (명령모드) a(위), b(아래)\n"
   ]
  },
  {
   "cell_type": "markdown",
   "id": "2189375b-207b-4bb4-866a-e9907cfa3483",
   "metadata": {
    "tags": []
   },
   "source": [
    "## magic command\n"
   ]
  },
  {
   "cell_type": "markdown",
   "id": "1672c39a-4f65-416d-828c-416b62472771",
   "metadata": {},
   "source": [
    "- 셀 내부에서 특별하게 동작하는 커맨드 \n",
    "- % : 한 줄의 magic command를 동작\n",
    "- %% : 셀 단위의 magic command를 동작\n",
    "- 주요 magic command\n",
    "    - pwd : 현재 디렉토리 경로를 나타냄\n",
    "    - ls : 현재 디렉토리에 있는 파일\n",
    "    - whos : 현재 선언된 변수를 확인\n",
    "    - reset : 현재 선언된 변수 삭제"
   ]
  },
  {
   "cell_type": "code",
   "execution_count": 1,
   "id": "4341b4ab-2863-4b6d-8611-00236cbf8f23",
   "metadata": {
    "tags": []
   },
   "outputs": [
    {
     "data": {
      "text/plain": [
       "'/Users/kim/MyProjects/python_basic'"
      ]
     },
     "execution_count": 1,
     "metadata": {},
     "output_type": "execute_result"
    }
   ],
   "source": [
    "%pwd"
   ]
  },
  {
   "cell_type": "code",
   "execution_count": 4,
   "id": "ceba6f0a-2200-4499-88a5-065632bbb0db",
   "metadata": {
    "tags": []
   },
   "outputs": [
    {
     "name": "stdout",
     "output_type": "stream",
     "text": [
      "Variable   Type    Data/Info\n",
      "----------------------------\n",
      "a          int     1\n"
     ]
    }
   ],
   "source": [
    "a = 1\n",
    "%whos"
   ]
  },
  {
   "cell_type": "markdown",
   "id": "161c5e51-1bb7-45ab-a34b-d0b2a01e5ba4",
   "metadata": {
    "tags": []
   },
   "source": [
    "## shell command"
   ]
  },
  {
   "cell_type": "markdown",
   "id": "16a954e5-38e6-4a97-9270-78aabb479432",
   "metadata": {
    "tags": []
   },
   "source": [
    "- 주피터 노트북을 실행 쉘 환경의 명령을 사용\n",
    "- 명령어 앞에 !를 붙여서 실행\n",
    "- 주요 명령어\n",
    "    - ls, cat, echo..."
   ]
  }
 ],
 "metadata": {
  "kernelspec": {
   "display_name": "Python 3 (ipykernel)",
   "language": "python",
   "name": "python3"
  },
  "language_info": {
   "codemirror_mode": {
    "name": "ipython",
    "version": 3
   },
   "file_extension": ".py",
   "mimetype": "text/x-python",
   "name": "python",
   "nbconvert_exporter": "python",
   "pygments_lexer": "ipython3",
   "version": "3.11.5"
  }
 },
 "nbformat": 4,
 "nbformat_minor": 5
}
