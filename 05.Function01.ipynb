{
 "cells": [
  {
   "cell_type": "markdown",
   "id": "dfa2b278-9b89-43b6-8e69-7b0693a81e7e",
   "metadata": {
    "tags": []
   },
   "source": [
    "## 05.함수1"
   ]
  },
  {
   "cell_type": "markdown",
   "id": "a37243fb-ef90-494f-96bd-0d47b0545589",
   "metadata": {},
   "source": [
    "- 반복되는 코드를 묶음으로 효율적인 코드를 작성하도록 해주는 기능\n",
    "- 기본 함수 \n",
    "- parameter & argument \n",
    "- return\n",
    "- *args, **kwargs"
   ]
  },
  {
   "cell_type": "markdown",
   "id": "42059cf4-1dd4-45a5-a24e-8bf5de56162a",
   "metadata": {},
   "source": [
    "### 5.1 기본함수\n"
   ]
  },
  {
   "cell_type": "markdown",
   "id": "f79e7759-8c2b-45b5-9606-942557634556",
   "metadata": {},
   "source": [
    "- 함수의 선언과 호출 "
   ]
  },
  {
   "cell_type": "markdown",
   "id": "6a37f3d2-76ec-4835-b174-ffdec6671c72",
   "metadata": {},
   "source": [
    "#### 5.1.1 예제1"
   ]
  },
  {
   "cell_type": "code",
   "execution_count": 4,
   "id": "86a77430-9cf6-4ad8-9f88-6692949b8f72",
   "metadata": {
    "tags": []
   },
   "outputs": [],
   "source": [
    "def grade(point):\n",
    "    if point >=90:\n",
    "        print(\"A\")\n",
    "    elif point >=80:\n",
    "        print(\"B\")\n",
    "    else:\n",
    "        print(\"C\")"
   ]
  },
  {
   "cell_type": "code",
   "execution_count": 7,
   "id": "93acbcec-7eaa-46c4-95fe-d38bc29e8433",
   "metadata": {
    "tags": []
   },
   "outputs": [],
   "source": [
    "a = 1\n",
    "ls = [1, 2, 3]"
   ]
  },
  {
   "cell_type": "code",
   "execution_count": 8,
   "id": "d7b1b932-e164-461f-8a14-35938170e21a",
   "metadata": {
    "tags": []
   },
   "outputs": [
    {
     "name": "stdout",
     "output_type": "stream",
     "text": [
      "Variable   Type        Data/Info\n",
      "--------------------------------\n",
      "a          int         1\n",
      "grade      function    <function grade at 0x1281205e0>\n",
      "ls         list        n=3\n"
     ]
    }
   ],
   "source": [
    "%whos"
   ]
  },
  {
   "cell_type": "code",
   "execution_count": 9,
   "id": "9575c999-16b8-454a-887f-989ab437a7ea",
   "metadata": {
    "tags": []
   },
   "outputs": [
    {
     "name": "stdout",
     "output_type": "stream",
     "text": [
      "B\n"
     ]
    }
   ],
   "source": [
    "grade(88)"
   ]
  },
  {
   "cell_type": "markdown",
   "id": "22178e11-e68c-4e22-b216-0b037394a4c4",
   "metadata": {},
   "source": [
    "### 5.2 parameter & argument"
   ]
  },
  {
   "cell_type": "markdown",
   "id": "4cb03bed-cacb-4bcd-8f35-b5464c540435",
   "metadata": {
    "tags": []
   },
   "source": [
    "- parameter : 함수를 선언할 때 호출하는 부분에서 보내주는 데이터를 받는 변수\n",
    "- argument : 함수를 호출할 때 함수에 보내주는 데이터 "
   ]
  },
  {
   "cell_type": "code",
   "execution_count": 11,
   "id": "a4931957-10dc-4ac8-8441-d424840b221e",
   "metadata": {
    "tags": []
   },
   "outputs": [],
   "source": [
    "# parameter"
   ]
  },
  {
   "cell_type": "code",
   "execution_count": 12,
   "id": "f552be88-36c1-48af-be89-2714683edc0b",
   "metadata": {
    "tags": []
   },
   "outputs": [],
   "source": [
    "def plus(num1, num2=10, num3=30):\n",
    "    print(num1 + num2 +num3)"
   ]
  },
  {
   "cell_type": "code",
   "execution_count": 13,
   "id": "82f57980-1965-423a-94ae-37844effd4ec",
   "metadata": {
    "tags": []
   },
   "outputs": [],
   "source": [
    "# argument"
   ]
  },
  {
   "cell_type": "code",
   "execution_count": 15,
   "id": "12b48edd-9216-48f7-b7ac-46c0116aab78",
   "metadata": {
    "tags": []
   },
   "outputs": [
    {
     "name": "stdout",
     "output_type": "stream",
     "text": [
      "33\n"
     ]
    }
   ],
   "source": [
    "plus(1,2)"
   ]
  },
  {
   "cell_type": "markdown",
   "id": "02a4f06a-94a3-4462-9f46-640a5454337e",
   "metadata": {
    "tags": []
   },
   "source": [
    "### 5.3 return"
   ]
  },
  {
   "cell_type": "markdown",
   "id": "0daea1e3-6377-48f3-a39c-4678c0a335b1",
   "metadata": {
    "tags": []
   },
   "source": [
    "- 함수를 실행한 결과를 저장하고 싶을 때 사용\n",
    "- return"
   ]
  },
  {
   "cell_type": "markdown",
   "id": "dd1c60e4-40c5-4fcb-a6e8-28c6cc31aa75",
   "metadata": {},
   "source": [
    "#### 5.3.1 예제1"
   ]
  },
  {
   "cell_type": "code",
   "execution_count": 20,
   "id": "521b16ec-ae2b-41dc-a76e-6e883507bf41",
   "metadata": {
    "tags": []
   },
   "outputs": [],
   "source": [
    "def plus(num1, num2):\n",
    "    print(num1, num2)\n",
    "    return num1 + num2"
   ]
  },
  {
   "cell_type": "code",
   "execution_count": 21,
   "id": "793c5ed2-d698-41b6-8560-c9953e730c16",
   "metadata": {
    "tags": []
   },
   "outputs": [
    {
     "name": "stdout",
     "output_type": "stream",
     "text": [
      "1 2\n",
      "3\n"
     ]
    }
   ],
   "source": [
    "result = plus(1, 2)\n",
    "print(result)"
   ]
  },
  {
   "cell_type": "markdown",
   "id": "027f84a6-97ed-47c2-9de1-215d47e6e12a",
   "metadata": {},
   "source": [
    "#### 5.3.2 예제2"
   ]
  },
  {
   "cell_type": "code",
   "execution_count": 34,
   "id": "05490f61-1775-4a1d-a1d8-31be67a4128b",
   "metadata": {
    "tags": []
   },
   "outputs": [],
   "source": [
    "def echo(msg):\n",
    "    if msg == \"quit\":\n",
    "        return\n",
    "    print(msg)"
   ]
  },
  {
   "cell_type": "code",
   "execution_count": 36,
   "id": "e14ad637-ca4c-447b-853e-bf27cef9093e",
   "metadata": {
    "tags": []
   },
   "outputs": [
    {
     "name": "stdout",
     "output_type": "stream",
     "text": [
      "python\n"
     ]
    }
   ],
   "source": [
    "echo(\"python\")"
   ]
  },
  {
   "cell_type": "code",
   "execution_count": 38,
   "id": "001e46ac-1372-4390-8dee-866a8998b9e6",
   "metadata": {
    "tags": []
   },
   "outputs": [],
   "source": [
    "echo(\"quit\")"
   ]
  },
  {
   "cell_type": "markdown",
   "id": "98814941-5027-4cb9-9817-d80a4eee7119",
   "metadata": {},
   "source": [
    "#### 5.3.3 예제3"
   ]
  },
  {
   "cell_type": "code",
   "execution_count": 41,
   "id": "4842fc9c-ef1d-4fa4-bfbc-d1b213f75e5e",
   "metadata": {
    "tags": []
   },
   "outputs": [
    {
     "data": {
      "text/plain": [
       "(3, -1)"
      ]
     },
     "execution_count": 41,
     "metadata": {},
     "output_type": "execute_result"
    }
   ],
   "source": [
    "def calc(num1, num2):\n",
    "    return num1+num2, num1-num2\n",
    "data1, data2 = calc(1,2)\n",
    "data1, data2"
   ]
  },
  {
   "cell_type": "code",
   "execution_count": 47,
   "id": "3d1e1f0c-9e09-45bd-87af-d5bcb53b1b2b",
   "metadata": {
    "tags": []
   },
   "outputs": [
    {
     "data": {
      "text/plain": [
       "(3, -1)"
      ]
     },
     "execution_count": 47,
     "metadata": {},
     "output_type": "execute_result"
    }
   ],
   "source": [
    "data1 = calc(1,2)\n",
    "data1"
   ]
  },
  {
   "cell_type": "markdown",
   "id": "a6e8afca-ae7b-4c79-8dad-11c95fd60565",
   "metadata": {},
   "source": [
    "### 5.4 *args, **kwargs"
   ]
  },
  {
   "cell_type": "markdown",
   "id": "e5493c48-16d7-4a17-b51e-7c86caf07033",
   "metadata": {},
   "source": [
    "- 함수를 호출할 때 argumnet와 keword argument의 갯수를 특정지을 수 없을 때 사용"
   ]
  },
  {
   "cell_type": "markdown",
   "id": "53e76d36-157c-4604-8e13-a50f00c38638",
   "metadata": {},
   "source": [
    "#### 5.4.1 예제1"
   ]
  },
  {
   "cell_type": "code",
   "execution_count": 27,
   "id": "fda49126-f847-40a1-8b80-c64db1459183",
   "metadata": {
    "tags": []
   },
   "outputs": [],
   "source": [
    "def plus(*args, **kwargs):\n",
    "    print(type(args), args)\n",
    "    print(type(kwargs), kwargs)\n",
    "    return sum(args) + sum(list(kwargs.values()))"
   ]
  },
  {
   "cell_type": "code",
   "execution_count": 28,
   "id": "9a90c922-4a37-4a47-a863-ddfa14aeec11",
   "metadata": {
    "tags": []
   },
   "outputs": [
    {
     "name": "stdout",
     "output_type": "stream",
     "text": [
      "<class 'tuple'> (1, 2, 3, 4, 5, 6)\n",
      "<class 'dict'> {'num1': 6, 'num2': 10, 'num3': 50}\n"
     ]
    },
    {
     "data": {
      "text/plain": [
       "87"
      ]
     },
     "execution_count": 28,
     "metadata": {},
     "output_type": "execute_result"
    }
   ],
   "source": [
    "plus(1,2,3,4,5,6, num1= 6, num2=10, num3=50)"
   ]
  },
  {
   "cell_type": "markdown",
   "id": "1fd6cfb9-8ff1-4692-82d7-aaa3121d62ef",
   "metadata": {},
   "source": [
    "#### 5.4.2 예제2"
   ]
  },
  {
   "cell_type": "code",
   "execution_count": 31,
   "id": "e3f3bf08-9144-4a43-aa80-e0aceda25e19",
   "metadata": {
    "tags": []
   },
   "outputs": [
    {
     "data": {
      "text/plain": [
       "6"
      ]
     },
     "execution_count": 31,
     "metadata": {},
     "output_type": "execute_result"
    }
   ],
   "source": [
    "def func(num1, num2=10, num3=20):\n",
    "    return num1 + num2 + num3\n",
    "\n",
    "data = (1, 2, 3)\n",
    "func(*data) #func(1,2,3)\n",
    "#func(data) #func([1,2,3])"
   ]
  },
  {
   "cell_type": "code",
   "execution_count": 33,
   "id": "b554fa08-11d8-4aaf-b31d-7483dcd078d7",
   "metadata": {
    "tags": []
   },
   "outputs": [
    {
     "data": {
      "text/plain": [
       "3"
      ]
     },
     "execution_count": 33,
     "metadata": {},
     "output_type": "execute_result"
    }
   ],
   "source": [
    "data = [1,2,3]\n",
    "for num in data:\n",
    "    result =num\n",
    "result"
   ]
  }
 ],
 "metadata": {
  "kernelspec": {
   "display_name": "Python 3 (ipykernel)",
   "language": "python",
   "name": "python3"
  },
  "language_info": {
   "codemirror_mode": {
    "name": "ipython",
    "version": 3
   },
   "file_extension": ".py",
   "mimetype": "text/x-python",
   "name": "python",
   "nbconvert_exporter": "python",
   "pygments_lexer": "ipython3",
   "version": "3.11.5"
  }
 },
 "nbformat": 4,
 "nbformat_minor": 5
}
