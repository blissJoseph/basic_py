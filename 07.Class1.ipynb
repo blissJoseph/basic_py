{
 "cells": [
  {
   "cell_type": "markdown",
   "id": "e37ff8f1-3327-4a62-be82-05224f24e5e4",
   "metadata": {},
   "source": [
    "## 07. 클래스1"
   ]
  },
  {
   "cell_type": "markdown",
   "id": "93f6e9bd-2d33-43b1-9b31-c3bf5b4253f3",
   "metadata": {},
   "source": [
    "- 변수와 함수를 묶어 놓은 개념\n",
    "- 사용 방법 \n",
    "    - 변수와 함수가 들어있는 클래스를 선언\n",
    "    - 클래스를 객체로 만들어서 클래스 안에 선언된 변수와 함수를 사용"
   ]
  },
  {
   "cell_type": "markdown",
   "id": "a212b5c2-17a8-4538-9943-dcd97b16720c",
   "metadata": {},
   "source": [
    "### 7.1 기본 클래스 "
   ]
  },
  {
   "cell_type": "markdown",
   "id": "ce8244a5-59d4-4297-8177-8b042637f04c",
   "metadata": {
    "tags": []
   },
   "source": [
    "#### 7.1.1 예제1"
   ]
  },
  {
   "cell_type": "code",
   "execution_count": 6,
   "id": "2970f4ca-6d9f-4d60-95d2-d9c6384a1d76",
   "metadata": {
    "tags": []
   },
   "outputs": [],
   "source": [
    "class Calculator:\n",
    "    num1 = 1\n",
    "    num2 = 2\n",
    "    \n",
    "    def plus(self):\n",
    "        return self.num1 + self.num2\n",
    "    def minus(self):\n",
    "        return self.num1 - self.num2"
   ]
  },
  {
   "cell_type": "code",
   "execution_count": 7,
   "id": "6a7d2a44-dece-4c64-ac2e-361b2adbef5a",
   "metadata": {
    "tags": []
   },
   "outputs": [],
   "source": [
    "#클래스 사용 \n",
    "## 앞자리 소문자 대문자 차이로 클래스,함수 구분"
   ]
  },
  {
   "cell_type": "code",
   "execution_count": 8,
   "id": "9faed105-9bf7-4365-8a6c-e06d39251c03",
   "metadata": {
    "tags": []
   },
   "outputs": [
    {
     "data": {
      "text/plain": [
       "<__main__.Calculator at 0x105537710>"
      ]
     },
     "execution_count": 8,
     "metadata": {},
     "output_type": "execute_result"
    }
   ],
   "source": [
    "calc = Calculator()  # 객체 생성\n",
    "calc"
   ]
  },
  {
   "cell_type": "code",
   "execution_count": 9,
   "id": "1ab4d2df-ed98-40b9-9d77-50d432e3f270",
   "metadata": {
    "tags": []
   },
   "outputs": [
    {
     "data": {
      "text/plain": [
       "(1, 2, 3, -1)"
      ]
     },
     "execution_count": 9,
     "metadata": {},
     "output_type": "execute_result"
    }
   ],
   "source": [
    "calc.num1, calc.num2, calc.plus(), calc.minus()"
   ]
  },
  {
   "cell_type": "markdown",
   "id": "316ba894-67e2-45b9-aa05-fb917b70f50f",
   "metadata": {},
   "source": [
    "#### 7.1.2 예제2"
   ]
  },
  {
   "cell_type": "markdown",
   "id": "56ca7cae-bc18-4989-822a-7d534309ac33",
   "metadata": {
    "tags": []
   },
   "source": [
    "- self의 의미 : 객체 자신 "
   ]
  },
  {
   "cell_type": "code",
   "execution_count": 10,
   "id": "a40b177f-e785-4b78-849a-87daa90d6658",
   "metadata": {
    "tags": []
   },
   "outputs": [],
   "source": [
    "calc2 = Calculator()"
   ]
  },
  {
   "cell_type": "code",
   "execution_count": 11,
   "id": "17bf6d57-efaf-4085-929e-839a89dbaed7",
   "metadata": {
    "tags": []
   },
   "outputs": [],
   "source": [
    "calc2.num1 = 10"
   ]
  },
  {
   "cell_type": "code",
   "execution_count": 12,
   "id": "b6640283-f3f5-41df-8b05-97859036f8a3",
   "metadata": {
    "tags": []
   },
   "outputs": [
    {
     "data": {
      "text/plain": [
       "12"
      ]
     },
     "execution_count": 12,
     "metadata": {},
     "output_type": "execute_result"
    }
   ],
   "source": [
    "calc2.plus()"
   ]
  },
  {
   "cell_type": "markdown",
   "id": "95554a78-631d-4944-b67f-1c4bb65bed01",
   "metadata": {},
   "source": [
    "### 7.2 객체지향"
   ]
  },
  {
   "cell_type": "markdown",
   "id": "bba7b660-e4db-4341-9000-ea60a9f4a2c9",
   "metadata": {},
   "source": [
    "- 실제 세계를 코드에 반영해서 개발하는 방법\n",
    "- 여러명의 개발자가 코드를 효율적으로 작성해서 프로젝트를 완성시키기 위한 방법\n",
    "- 설계도 작성(class) -> 실제 물건(object)\n",
    "- 사용자 정의 데이터 타입"
   ]
  },
  {
   "cell_type": "code",
   "execution_count": 22,
   "id": "578807b0-245c-42e7-9b7b-421aba38694f",
   "metadata": {
    "tags": []
   },
   "outputs": [
    {
     "data": {
      "text/plain": [
       "12"
      ]
     },
     "execution_count": 22,
     "metadata": {},
     "output_type": "execute_result"
    }
   ],
   "source": [
    "calc2.plus()"
   ]
  },
  {
   "cell_type": "code",
   "execution_count": 23,
   "id": "433659e6-4598-43ce-b79f-da3f068932f4",
   "metadata": {
    "tags": []
   },
   "outputs": [
    {
     "data": {
      "text/plain": [
       "'PYTHON'"
      ]
     },
     "execution_count": 23,
     "metadata": {},
     "output_type": "execute_result"
    }
   ],
   "source": [
    "obj = \"python\"\n",
    "obj.upper()"
   ]
  },
  {
   "cell_type": "code",
   "execution_count": 26,
   "id": "c69c4eb5-9ca8-4b06-a92f-4ac15c3a1141",
   "metadata": {
    "tags": []
   },
   "outputs": [
    {
     "data": {
      "text/plain": [
       "[1, 2, 3]"
      ]
     },
     "execution_count": 26,
     "metadata": {},
     "output_type": "execute_result"
    }
   ],
   "source": [
    "ls = [1, 3, 2]\n",
    "ls.sort()\n",
    "ls"
   ]
  },
  {
   "cell_type": "code",
   "execution_count": 28,
   "id": "088dfc1d-8e00-4afb-a3f8-5ae36d662f5a",
   "metadata": {
    "tags": []
   },
   "outputs": [
    {
     "data": {
      "text/plain": [
       "['__class__',\n",
       " '__delattr__',\n",
       " '__dict__',\n",
       " '__dir__',\n",
       " '__doc__',\n",
       " '__eq__',\n",
       " '__format__',\n",
       " '__ge__',\n",
       " '__getattribute__',\n",
       " '__getstate__',\n",
       " '__gt__',\n",
       " '__hash__',\n",
       " '__init__',\n",
       " '__init_subclass__',\n",
       " '__le__',\n",
       " '__lt__',\n",
       " '__module__',\n",
       " '__ne__',\n",
       " '__new__',\n",
       " '__reduce__',\n",
       " '__reduce_ex__',\n",
       " '__repr__',\n",
       " '__setattr__',\n",
       " '__sizeof__',\n",
       " '__str__',\n",
       " '__subclasshook__',\n",
       " '__weakref__',\n",
       " 'minus',\n",
       " 'num1',\n",
       " 'num2',\n",
       " 'plus']"
      ]
     },
     "execution_count": 28,
     "metadata": {},
     "output_type": "execute_result"
    }
   ],
   "source": [
    "dir(calc)"
   ]
  },
  {
   "cell_type": "code",
   "execution_count": 27,
   "id": "629e8f56-3fde-4652-a368-ad27ee7b1968",
   "metadata": {
    "tags": []
   },
   "outputs": [
    {
     "data": {
      "text/plain": [
       "['minus', 'num1', 'num2', 'plus']"
      ]
     },
     "execution_count": 27,
     "metadata": {},
     "output_type": "execute_result"
    }
   ],
   "source": [
    "[data for data in dir(calc) if data[:2] !=\"__\"]\n"
   ]
  },
  {
   "cell_type": "markdown",
   "id": "8e340b7f-e3ce-49b4-b6bc-51a085e43332",
   "metadata": {},
   "source": [
    "### 7.3 생성자"
   ]
  },
  {
   "cell_type": "markdown",
   "id": "524f4821-e04b-4f2c-ae61-593b35086b3a",
   "metadata": {},
   "source": [
    "- 클래스가 객체로 생성될 때 실행되는 함수\n",
    "- 변수(재료)를 추가할 때 사용"
   ]
  },
  {
   "cell_type": "code",
   "execution_count": 32,
   "id": "64d25bdf-e582-4ae3-9e0e-e1567d64c5d8",
   "metadata": {
    "tags": []
   },
   "outputs": [],
   "source": [
    "class Caculator:\n",
    "    \n",
    "    # 생성자 함수 : __init__\n",
    "    def __init__(self, num1, num2=10):\n",
    "        self.num1 = num1\n",
    "        self.num2 = num2\n",
    "        \n",
    "    def plus(self):\n",
    "        return self.num1 + self.num2\n",
    "    \n",
    "    def minus(self):\n",
    "        return self.num1 - self,num2"
   ]
  },
  {
   "cell_type": "code",
   "execution_count": 33,
   "id": "f4e3055c-f2dc-48e0-823d-5ef07d90e2e9",
   "metadata": {
    "tags": []
   },
   "outputs": [],
   "source": [
    "calc1 = Caculator(3)"
   ]
  },
  {
   "cell_type": "code",
   "execution_count": 35,
   "id": "4b4edac7-7d39-47ed-b428-e3d804411d15",
   "metadata": {
    "tags": []
   },
   "outputs": [
    {
     "data": {
      "text/plain": [
       "13"
      ]
     },
     "execution_count": 35,
     "metadata": {},
     "output_type": "execute_result"
    }
   ],
   "source": [
    "calc1.plus()"
   ]
  },
  {
   "cell_type": "code",
   "execution_count": null,
   "id": "c31a5327-42ef-4a6c-bfee-aa5ac31d4614",
   "metadata": {},
   "outputs": [],
   "source": [
    "calc2 = Calculator(3, 5)\n",
    "calc2.plus()"
   ]
  },
  {
   "cell_type": "code",
   "execution_count": 18,
   "id": "cc313a3a-b7cf-4bb6-9446-2f62d4869517",
   "metadata": {
    "tags": []
   },
   "outputs": [],
   "source": [
    "a = \"abc\"\n"
   ]
  },
  {
   "cell_type": "code",
   "execution_count": null,
   "id": "39c2cb74-209a-4a47-9ad1-c84729ef490b",
   "metadata": {},
   "outputs": [],
   "source": []
  },
  {
   "cell_type": "code",
   "execution_count": null,
   "id": "9e77156c-cc4e-4f22-912b-96eb4a2a5b39",
   "metadata": {},
   "outputs": [],
   "source": []
  },
  {
   "cell_type": "markdown",
   "id": "957d164c-ce65-41fa-88b3-426d5bc792b0",
   "metadata": {
    "tags": []
   },
   "source": [
    "#### <span style=\"color:blue; font-weight: bold\"> 연습문제1 </span>"
   ]
  },
  {
   "cell_type": "markdown",
   "id": "448d160e-e406-43c1-887b-dc3cfdb75d32",
   "metadata": {},
   "source": [
    "- user data 를 입력 받아서 아이디와 패스워드를 체크하는 데코레이터 함수를 코드로 작성하세요.\n",
    "- 로그인 될때마다 count를 1씩 증가"
   ]
  },
  {
   "cell_type": "code",
   "execution_count": null,
   "id": "73b24eed-7344-4677-ad27-9430e9d415fe",
   "metadata": {},
   "outputs": [],
   "source": []
  },
  {
   "cell_type": "markdown",
   "id": "a2191af8-fd98-42ca-8153-d4bed9150d03",
   "metadata": {},
   "source": [
    "#### <span style=\"color:blue; font-weight: bold\"> 연습문제2 </span>"
   ]
  },
  {
   "cell_type": "markdown",
   "id": "dee1bf96-3d1e-471e-b928-7a6c8016e420",
   "metadata": {},
   "source": [
    "- 스타크래프트의 마린을 클래스로 설계\n",
    "- 체력(health : 40), 공격력(attack_pow : 5), 공격(attack())\n",
    "- 마린 클래스로 마린 객체 2개를 생성해서 마린 1이 마린 2를 공격하는 코드를 작성\n",
    "- attack(self, unit)\n",
    "- 체력이 0인 경우 \"사망\"을 출력하고 체력이 (-)가 되지 않도록 코드를 작성\n",
    "\n",
    "- 메딕 만들기 (heal_pow : 6), heal()"
   ]
  },
  {
   "cell_type": "code",
   "execution_count": null,
   "id": "3decb8de-e049-46f1-b787-8f93cd3e7e8e",
   "metadata": {},
   "outputs": [],
   "source": []
  }
 ],
 "metadata": {
  "kernelspec": {
   "display_name": "Python 3 (ipykernel)",
   "language": "python",
   "name": "python3"
  },
  "language_info": {
   "codemirror_mode": {
    "name": "ipython",
    "version": 3
   },
   "file_extension": ".py",
   "mimetype": "text/x-python",
   "name": "python",
   "nbconvert_exporter": "python",
   "pygments_lexer": "ipython3",
   "version": "3.11.5"
  }
 },
 "nbformat": 4,
 "nbformat_minor": 5
}
