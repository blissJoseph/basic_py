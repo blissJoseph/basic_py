{
 "cells": [
  {
   "cell_type": "markdown",
   "id": "560a1258-0c68-448e-a140-fcd5bb319af8",
   "metadata": {},
   "source": [
    "## 08.Class2"
   ]
  },
  {
   "cell_type": "markdown",
   "id": "64192958-6e31-4f0f-ad3c-99b3e5b35b9a",
   "metadata": {},
   "source": [
    "### 8.1 상속"
   ]
  },
  {
   "cell_type": "markdown",
   "id": "4ea86370-b065-42dc-9d7b-8ddde9232b20",
   "metadata": {},
   "source": [
    "- 클래스의 기능을 가져다가 기능을 수정하거나 추가할때 사용하는 방법"
   ]
  },
  {
   "cell_type": "markdown",
   "id": "b55eed56-7b01-414b-b7d3-445a83be59a7",
   "metadata": {},
   "source": [
    "#### 8.1.1 예제1"
   ]
  },
  {
   "cell_type": "code",
   "execution_count": 23,
   "id": "f4513e48-709d-45e5-a938-b8d6f818563a",
   "metadata": {
    "tags": []
   },
   "outputs": [],
   "source": [
    "class Calculator:\n",
    "    \n",
    "    def __init__(self, num1, num2):\n",
    "        self.num1 = num1\n",
    "        self.num2 = num2\n",
    "        \n",
    "    def plus(self):\n",
    "        return self.num1 + self.num2\n",
    "    "
   ]
  },
  {
   "cell_type": "code",
   "execution_count": 24,
   "id": "1cc14417-4cd9-4ccc-a09d-1edde797a0ee",
   "metadata": {
    "tags": []
   },
   "outputs": [
    {
     "data": {
      "text/plain": [
       "3"
      ]
     },
     "execution_count": 24,
     "metadata": {},
     "output_type": "execute_result"
    }
   ],
   "source": [
    "calc = Calculator(1,2)\n",
    "calc.plus()"
   ]
  },
  {
   "cell_type": "code",
   "execution_count": 25,
   "id": "7ae243de-c7dc-4f0f-b36e-7e7bc3f88fb7",
   "metadata": {
    "tags": []
   },
   "outputs": [],
   "source": [
    "# minus 기능 추가 "
   ]
  },
  {
   "cell_type": "code",
   "execution_count": 26,
   "id": "71c151c4-2174-493b-a74c-d76d8a6fa106",
   "metadata": {
    "tags": []
   },
   "outputs": [],
   "source": [
    "class Calculator2:\n",
    "    \n",
    "    def __init__(self, num1, num2):\n",
    "        self.num1 = num1\n",
    "        self.num2 = num2\n",
    "        \n",
    "    def plus(self):\n",
    "        return self.num1 + self.num2\n",
    "    def minus(self):\n",
    "        return self.num1 - self.num2\n",
    "    "
   ]
  },
  {
   "cell_type": "code",
   "execution_count": 28,
   "id": "b3e4ad8c-9d8c-4d5f-b59b-132cab930707",
   "metadata": {
    "tags": []
   },
   "outputs": [
    {
     "data": {
      "text/plain": [
       "2"
      ]
     },
     "execution_count": 28,
     "metadata": {},
     "output_type": "execute_result"
    }
   ],
   "source": [
    "calc2 = Calculator2(5,3)\n",
    "calc2.minus()"
   ]
  },
  {
   "cell_type": "code",
   "execution_count": 29,
   "id": "786fd1c4-837f-4a25-897e-96aa6a675370",
   "metadata": {
    "tags": []
   },
   "outputs": [],
   "source": [
    "# 상속을 이용한 minus 기능 추가 "
   ]
  },
  {
   "cell_type": "code",
   "execution_count": 30,
   "id": "8af2a846-f672-42a4-86a8-7976c1f8798f",
   "metadata": {
    "tags": []
   },
   "outputs": [],
   "source": [
    "class Calculator3(Calculator):\n",
    "    \n",
    "    def multiple(self):\n",
    "        return self.num1 * self.num2\n"
   ]
  },
  {
   "cell_type": "code",
   "execution_count": 32,
   "id": "fa8b06ce-b935-4a4c-bdeb-cfc1532a8d46",
   "metadata": {
    "tags": []
   },
   "outputs": [
    {
     "data": {
      "text/plain": [
       "24"
      ]
     },
     "execution_count": 32,
     "metadata": {},
     "output_type": "execute_result"
    }
   ],
   "source": [
    "cacl3 = Calculator3(6,4)\n",
    "cacl3.multiple()"
   ]
  },
  {
   "cell_type": "markdown",
   "id": "643d503f-9f74-467a-8aee-b09422cc23c2",
   "metadata": {},
   "source": [
    "#### <span style=\"color:red; font-weight: bold\"> 메서드 오버라이딩라이딩 </span>"
   ]
  },
  {
   "cell_type": "code",
   "execution_count": 34,
   "id": "e4342fa1-703c-4f8b-b3e9-c106aa084690",
   "metadata": {
    "tags": []
   },
   "outputs": [],
   "source": [
    "class Calulator4(Calculator3):\n",
    "    def plus(self):\n",
    "        return self.num1**2 + self.num2**2"
   ]
  },
  {
   "cell_type": "code",
   "execution_count": 38,
   "id": "4d8d4a0a-aa35-4530-bdc9-b5d9171a3abf",
   "metadata": {
    "tags": []
   },
   "outputs": [],
   "source": [
    "calc4 = Calulator4(1, 2)"
   ]
  },
  {
   "cell_type": "code",
   "execution_count": 39,
   "id": "e2014ba1-9fbc-43b8-9ace-f5972d656605",
   "metadata": {
    "tags": []
   },
   "outputs": [
    {
     "data": {
      "text/plain": [
       "5"
      ]
     },
     "execution_count": 39,
     "metadata": {},
     "output_type": "execute_result"
    }
   ],
   "source": [
    "calc4.plus()"
   ]
  },
  {
   "cell_type": "markdown",
   "id": "2f632ae1-cc81-4471-ad87-4c48e3edfe22",
   "metadata": {
    "tags": []
   },
   "source": [
    "#### <span style=\"color:blue; font-weight: bold\"> 연습문제 </span>"
   ]
  },
  {
   "cell_type": "markdown",
   "id": "b6c060cb-30f2-4cc2-9cfe-a70c5e3a12ba",
   "metadata": {
    "tags": []
   },
   "source": [
    "- 아이폰 1, 2, 3 버전의 클래스를 생성하세요.\n",
    "- 아이폰 1 : calling : print(\"calling\")\n",
    "- 아이폰 2 : calling, send msg\n",
    "- 아이폰 3 : calling, send msg, internet"
   ]
  },
  {
   "cell_type": "code",
   "execution_count": 53,
   "id": "ec20b1b6-b500-4837-9e47-fdc0cdca1f7a",
   "metadata": {
    "tags": []
   },
   "outputs": [],
   "source": [
    "class Iphone1:\n",
    "    def calling(self):\n",
    "        print(\"calling\")"
   ]
  },
  {
   "cell_type": "code",
   "execution_count": 67,
   "id": "e9f2c189-2201-4030-a8c0-6843ba160d0d",
   "metadata": {
    "tags": []
   },
   "outputs": [],
   "source": [
    "class Iphone2(Iphone1):\n",
    "    def send_msg(self):\n",
    "        print(\"send msg\")"
   ]
  },
  {
   "cell_type": "code",
   "execution_count": 68,
   "id": "cd845fbb-fc2b-4392-8454-6456b90148b2",
   "metadata": {
    "tags": []
   },
   "outputs": [],
   "source": [
    "class Iphone3(Iphone2):\n",
    "    def internet(self):\n",
    "        print(\"internet\")"
   ]
  },
  {
   "cell_type": "code",
   "execution_count": 69,
   "id": "e8743907-fd8a-44ca-979a-da950eda3098",
   "metadata": {
    "tags": []
   },
   "outputs": [
    {
     "name": "stdout",
     "output_type": "stream",
     "text": [
      "calling\n",
      "send msg\n",
      "internet\n"
     ]
    },
    {
     "data": {
      "text/plain": [
       "(None, None, None)"
      ]
     },
     "execution_count": 69,
     "metadata": {},
     "output_type": "execute_result"
    }
   ],
   "source": [
    "iphone3 = Iphone3()\n",
    "iphone3.calling(), iphone3.send_msg(), iphone3.internet()"
   ]
  },
  {
   "cell_type": "markdown",
   "id": "f3ad5f18-eac0-4c06-a313-7966f099494e",
   "metadata": {},
   "source": [
    "#### 8.2.2 예제2 (다중상속)"
   ]
  },
  {
   "cell_type": "code",
   "execution_count": 70,
   "id": "ef861d0a-c67f-4756-8880-14f4df83e8ab",
   "metadata": {
    "tags": []
   },
   "outputs": [],
   "source": [
    "class Galuxy:\n",
    "    def show_img(self):\n",
    "        print(\"show image\")"
   ]
  },
  {
   "cell_type": "code",
   "execution_count": 71,
   "id": "d1822faa-7158-456c-aed1-aabbeb6395e6",
   "metadata": {
    "tags": []
   },
   "outputs": [],
   "source": [
    "class DssPhone(Iphone3, Galuxy):\n",
    "    def camera(self):\n",
    "        print(\"camera\")\n",
    "    "
   ]
  },
  {
   "cell_type": "code",
   "execution_count": 73,
   "id": "9e67717a-adba-4445-84af-bca54665135a",
   "metadata": {
    "tags": []
   },
   "outputs": [],
   "source": [
    "dss_phone = DssPhone()"
   ]
  },
  {
   "cell_type": "code",
   "execution_count": 75,
   "id": "92e10b1d-5265-4381-965b-670cf3a56102",
   "metadata": {
    "tags": []
   },
   "outputs": [
    {
     "data": {
      "text/plain": [
       "['calling', 'camera', 'internet', 'send_msg', 'show_img']"
      ]
     },
     "execution_count": 75,
     "metadata": {},
     "output_type": "execute_result"
    }
   ],
   "source": [
    "[func for func in dir(dss_phone) if func[:2] != \"__\"]"
   ]
  },
  {
   "cell_type": "markdown",
   "id": "dd130f1f-c5c2-467b-b417-90d5021d4923",
   "metadata": {},
   "source": [
    "### 8.2 super"
   ]
  },
  {
   "cell_type": "markdown",
   "id": "a242708a-d818-43a7-be4f-d2830203e71f",
   "metadata": {},
   "source": [
    "- 부모 클래스에서 사용된 함수의 코드를 가져다가 자식 클래스의 함수에서 재사용할때 사용\n",
    "\n",
    "```\n",
    "class A:\n",
    "    def plus(self):\n",
    "        code1\n",
    "\n",
    "class B(A):\n",
    "    def minus(self):\n",
    "        code1 # super().plus()\n",
    "        code2\n",
    "```"
   ]
  },
  {
   "cell_type": "code",
   "execution_count": 76,
   "id": "cdf5c6c7-4cae-4d47-989e-3f9ac80f60b4",
   "metadata": {
    "tags": []
   },
   "outputs": [],
   "source": [
    "class Marine:\n",
    "    \n",
    "    def __init__(self):\n",
    "        self.health = 40\n",
    "        self.attackpow = 5\n",
    "    \n",
    "    def attack(self, unit):\n",
    "        unit.health -= self.attackpow \n",
    "        if unit.health <=0:\n",
    "            unit.health = 0"
   ]
  },
  {
   "cell_type": "code",
   "execution_count": 77,
   "id": "7d377208-1065-466e-b61d-7f4193326a11",
   "metadata": {
    "tags": []
   },
   "outputs": [],
   "source": [
    "class Marine2(Marine):\n",
    "    \n",
    "    def __init__(self):\n",
    "#         self.health = 40\n",
    "#         self.attack_pow = 5\n",
    "        super().__init__()\n",
    "        self.max_health = 40"
   ]
  },
  {
   "cell_type": "code",
   "execution_count": 78,
   "id": "78cf2c57-7a78-4f88-9826-b8e4e9c5563d",
   "metadata": {
    "tags": []
   },
   "outputs": [],
   "source": [
    "marine = Marine2()"
   ]
  },
  {
   "cell_type": "code",
   "execution_count": 79,
   "id": "e82f59d0-854a-4a7b-af2e-77db3ebcf621",
   "metadata": {
    "tags": []
   },
   "outputs": [
    {
     "ename": "AttributeError",
     "evalue": "'Marine2' object has no attribute 'attack_pow'",
     "output_type": "error",
     "traceback": [
      "\u001b[0;31m---------------------------------------------------------------------------\u001b[0m",
      "\u001b[0;31mAttributeError\u001b[0m                            Traceback (most recent call last)",
      "Cell \u001b[0;32mIn[79], line 1\u001b[0m\n\u001b[0;32m----> 1\u001b[0m marine\u001b[38;5;241m.\u001b[39mhealth, marine\u001b[38;5;241m.\u001b[39mattack_pow, marine\u001b[38;5;241m.\u001b[39mmax_health\n",
      "\u001b[0;31mAttributeError\u001b[0m: 'Marine2' object has no attribute 'attack_pow'"
     ]
    }
   ],
   "source": [
    "marine.health, marine.attack_pow, marine.max_health"
   ]
  },
  {
   "cell_type": "markdown",
   "id": "14db6833-ea11-4cd9-916b-bc0bff115370",
   "metadata": {},
   "source": [
    "### 8.3 Class getter & setter"
   ]
  },
  {
   "cell_type": "markdown",
   "id": "25a966fb-50c5-45d7-b0b9-88775f969665",
   "metadata": {},
   "source": [
    "- 객체의 내부 변수에 접근할때 특정 로직을 거쳐서 접근시키는 방법"
   ]
  },
  {
   "cell_type": "code",
   "execution_count": 80,
   "id": "9b3a5266-7324-4a15-bdd0-b1c383ee8f51",
   "metadata": {
    "tags": []
   },
   "outputs": [],
   "source": [
    "class User:\n",
    "    \n",
    "    def __init__(self, first_name):\n",
    "        self.first_name = first_name\n",
    "    \n",
    "    def setter(self, first_name):\n",
    "        if len(first_name) >=  3:\n",
    "            self.first_name = first_name\n",
    "        else:\n",
    "            print(\"error\")\n",
    "        \n",
    "    def getter(self):        \n",
    "        print(\"getter\")\n",
    "        return self.first_name.upper()\n",
    "    \n",
    "    name = property(getter, setter)"
   ]
  },
  {
   "cell_type": "code",
   "execution_count": 82,
   "id": "dddd709b-3f12-41f3-8ada-1d04ff175f56",
   "metadata": {
    "tags": []
   },
   "outputs": [],
   "source": [
    "user1 = User(\"andy\")"
   ]
  },
  {
   "cell_type": "code",
   "execution_count": 83,
   "id": "a79fbe7e-6ac0-405d-9205-775db5ed7c1a",
   "metadata": {
    "tags": []
   },
   "outputs": [
    {
     "data": {
      "text/plain": [
       "'andy'"
      ]
     },
     "execution_count": 83,
     "metadata": {},
     "output_type": "execute_result"
    }
   ],
   "source": [
    "user1.first_name"
   ]
  },
  {
   "cell_type": "code",
   "execution_count": 84,
   "id": "310c08f1-1884-4ab0-a78c-56b4fa557d72",
   "metadata": {
    "tags": []
   },
   "outputs": [],
   "source": [
    "# setter 함수 실행\n",
    "user1.name = \"jhon\""
   ]
  },
  {
   "cell_type": "code",
   "execution_count": 85,
   "id": "3eadb7a4-2be9-4c92-b3bc-c93a6322eda2",
   "metadata": {
    "tags": []
   },
   "outputs": [
    {
     "data": {
      "text/plain": [
       "'jhon'"
      ]
     },
     "execution_count": 85,
     "metadata": {},
     "output_type": "execute_result"
    }
   ],
   "source": [
    "user1.first_name"
   ]
  },
  {
   "cell_type": "code",
   "execution_count": 86,
   "id": "d042faf0-73cd-47d4-8126-7dbe13dc570d",
   "metadata": {
    "tags": []
   },
   "outputs": [
    {
     "name": "stdout",
     "output_type": "stream",
     "text": [
      "getter\n"
     ]
    },
    {
     "data": {
      "text/plain": [
       "'JHON'"
      ]
     },
     "execution_count": 86,
     "metadata": {},
     "output_type": "execute_result"
    }
   ],
   "source": [
    "# getter 함수 실행\n",
    "user1.name"
   ]
  },
  {
   "cell_type": "markdown",
   "id": "1a3e8be6-dc71-43cb-9d00-48a707135e18",
   "metadata": {},
   "source": [
    "#### 8.4 non public "
   ]
  },
  {
   "cell_type": "markdown",
   "id": "585a3482-a02d-4714-9807-e1177acf5914",
   "metadata": {},
   "source": [
    "- mangling 이라는 방법으로 다이렉트로 객체의 변수에 접근하지 못하게 하는 방법"
   ]
  },
  {
   "cell_type": "code",
   "execution_count": 89,
   "id": "f76d6b0d-cb10-4c96-bf65-64f1e9b5bb8d",
   "metadata": {
    "tags": []
   },
   "outputs": [],
   "source": [
    "class Calculator:\n",
    "    \n",
    "    def __init__(self, num1, num2):\n",
    "        self.num1 = num1\n",
    "        self.__num2 = num2\n",
    "\n",
    "    def getter(self):\n",
    "        return self.__num2\n",
    "    \n",
    "    # num2에 0이 들어가지 않도록 함\n",
    "    def setter(self, num2):\n",
    "        num2 = 1 if num2 == 0 else num2\n",
    "        self.__num2 = num2\n",
    "    \n",
    "    def __disp(self):\n",
    "        print(self.num1, self.__num2)\n",
    "    \n",
    "    def div(self):\n",
    "        self.__disp()\n",
    "        return self.num1 / self.__num2\n",
    "    \n",
    "    number2 = property(getter, setter)"
   ]
  },
  {
   "cell_type": "code",
   "execution_count": 90,
   "id": "3b8c6223-82b6-4a68-aa2e-68058c98c0ff",
   "metadata": {
    "tags": []
   },
   "outputs": [],
   "source": [
    "calc = Calculator(1, 2)"
   ]
  },
  {
   "cell_type": "code",
   "execution_count": 91,
   "id": "738f24aa-2c24-4bc2-830b-12970a17767a",
   "metadata": {
    "tags": []
   },
   "outputs": [
    {
     "name": "stdout",
     "output_type": "stream",
     "text": [
      "1 2\n"
     ]
    },
    {
     "data": {
      "text/plain": [
       "0.5"
      ]
     },
     "execution_count": 91,
     "metadata": {},
     "output_type": "execute_result"
    }
   ],
   "source": [
    "calc.div()"
   ]
  },
  {
   "cell_type": "code",
   "execution_count": 92,
   "id": "28f89a17-7fed-45b4-95a1-08c6a356dfbd",
   "metadata": {
    "tags": []
   },
   "outputs": [
    {
     "data": {
      "text/plain": [
       "2"
      ]
     },
     "execution_count": 92,
     "metadata": {},
     "output_type": "execute_result"
    }
   ],
   "source": [
    "calc.number2"
   ]
  },
  {
   "cell_type": "code",
   "execution_count": 93,
   "id": "afef0047-2b1f-4e9f-b4b5-9d628b69fa84",
   "metadata": {
    "tags": []
   },
   "outputs": [],
   "source": [
    "calc.number2 = 0"
   ]
  },
  {
   "cell_type": "markdown",
   "id": "241b78af-1ec6-4c36-b1fb-1e73626c9c8f",
   "metadata": {},
   "source": [
    "#### 8.5 is a & has a"
   ]
  },
  {
   "cell_type": "markdown",
   "id": "2af739d9-687c-45c9-a69d-d96b08b5821a",
   "metadata": {},
   "source": [
    "- 클래스를 설계하는 개념\n",
    "- A is a B\n",
    "    - A는 B이다. 상속을 이용해서 클래스를 만드는 방법\n",
    "- A has a B\n",
    "    - A는 B를 가진다. A가 B객체를 가지고 클래스를 만드는 방법"
   ]
  },
  {
   "cell_type": "markdown",
   "id": "75b017f6-22e7-4c34-8176-922b28387349",
   "metadata": {},
   "source": [
    "#### is a "
   ]
  },
  {
   "cell_type": "code",
   "execution_count": 96,
   "id": "a2ef859e-194f-4da5-88fa-61c66e78ed42",
   "metadata": {
    "tags": []
   },
   "outputs": [],
   "source": [
    "# 사람 : 이름, 이메일, 정보출력()"
   ]
  },
  {
   "cell_type": "code",
   "execution_count": 99,
   "id": "5bbb23d9-61c7-497d-9e29-5be417fdf6ff",
   "metadata": {
    "tags": []
   },
   "outputs": [],
   "source": [
    "\n",
    "class Person:\n",
    "    def __init__(self, name, email):\n",
    "        self.name = name\n",
    "        self.email = email"
   ]
  },
  {
   "cell_type": "code",
   "execution_count": 100,
   "id": "1fdccbc0-53ca-419a-8b80-4a03b10a11ef",
   "metadata": {
    "tags": []
   },
   "outputs": [],
   "source": [
    "class Person2(Person):\n",
    "    def info(self):\n",
    "        print(self.name, self.email)"
   ]
  },
  {
   "cell_type": "code",
   "execution_count": 101,
   "id": "d99c4ac4-17fa-41b8-acb5-e1fa69221ad0",
   "metadata": {
    "tags": []
   },
   "outputs": [],
   "source": [
    "p = Person2(\"andy\", \"andy@gmail.com\")"
   ]
  },
  {
   "cell_type": "code",
   "execution_count": 102,
   "id": "fe864c69-4a86-48ea-87a8-54c1e81295a7",
   "metadata": {
    "tags": []
   },
   "outputs": [
    {
     "name": "stdout",
     "output_type": "stream",
     "text": [
      "andy andy@gmail.com\n"
     ]
    }
   ],
   "source": [
    "p.info()"
   ]
  },
  {
   "cell_type": "markdown",
   "id": "17321788-0571-4687-8389-f4ba917b677c",
   "metadata": {},
   "source": [
    "#### has a"
   ]
  },
  {
   "cell_type": "code",
   "execution_count": 103,
   "id": "37e7ac2f-80db-4523-b9b8-6a519884c4eb",
   "metadata": {
    "tags": []
   },
   "outputs": [],
   "source": [
    "class Name:\n",
    "    def __init__(self, name):\n",
    "        self.name_str = name\n",
    "class Email:\n",
    "    def __init__(self, email):\n",
    "        self.email_str = email"
   ]
  },
  {
   "cell_type": "code",
   "execution_count": 104,
   "id": "6a19affb-7a0d-4505-be8d-21c9c2ab20aa",
   "metadata": {
    "tags": []
   },
   "outputs": [],
   "source": [
    "class Person:\n",
    "    def __init__(self, name_obj, email_obj):\n",
    "        self.name = name_obj\n",
    "        self.email = email_obj\n",
    "    def info(self):\n",
    "        print(name.name_str, email.email_str)"
   ]
  },
  {
   "cell_type": "code",
   "execution_count": 105,
   "id": "87f6f763-c371-4399-a262-eb5f53959e7e",
   "metadata": {
    "tags": []
   },
   "outputs": [],
   "source": [
    "name = Name(\"andy\")\n",
    "email = Email(\"andy@gmail.com\")\n",
    "p = Person(name, email)"
   ]
  },
  {
   "cell_type": "code",
   "execution_count": 106,
   "id": "c64b16eb-1d53-4e07-9b91-516b446c7e8d",
   "metadata": {
    "tags": []
   },
   "outputs": [
    {
     "name": "stdout",
     "output_type": "stream",
     "text": [
      "andy andy@gmail.com\n"
     ]
    }
   ],
   "source": [
    "p.info()"
   ]
  },
  {
   "cell_type": "markdown",
   "id": "ef545c9c-8dbb-47e2-8e3a-053af484b91a",
   "metadata": {},
   "source": [
    "### Magic Method"
   ]
  },
  {
   "cell_type": "markdown",
   "id": "5b27ae43-7279-4572-a332-8b36db6996e0",
   "metadata": {
    "tags": []
   },
   "source": [
    "- compare\n",
    "    - `__eq__` : ==\n",
    "    - `__ne__` : !=\n",
    "    - `__lt__` : <\n",
    "- calculate\n",
    "    - `__add__` : + \n",
    "    - `__sub__` : -\n",
    "- `__repr__` : 객체의 내용을 출력(개발자용)\n",
    "- `__str__`  : 객체의 내용을 출력"
   ]
  },
  {
   "cell_type": "code",
   "execution_count": 108,
   "id": "4f8e4278-a1e8-4156-a176-d7ecdee5a987",
   "metadata": {
    "tags": []
   },
   "outputs": [
    {
     "data": {
      "text/plain": [
       "True"
      ]
     },
     "execution_count": 108,
     "metadata": {},
     "output_type": "execute_result"
    }
   ],
   "source": [
    "\"test\" == \"test\""
   ]
  },
  {
   "cell_type": "code",
   "execution_count": 109,
   "id": "7a5f9c29-12ba-47cf-93e5-919db5190dfa",
   "metadata": {
    "tags": []
   },
   "outputs": [
    {
     "data": {
      "text/plain": [
       "True"
      ]
     },
     "execution_count": 109,
     "metadata": {},
     "output_type": "execute_result"
    }
   ],
   "source": [
    "\"test\".__eq__(\"test\")"
   ]
  },
  {
   "cell_type": "code",
   "execution_count": 110,
   "id": "06e6d9e3-790c-408f-a3a8-278876a26538",
   "metadata": {
    "tags": []
   },
   "outputs": [
    {
     "data": {
      "text/plain": [
       "3"
      ]
     },
     "execution_count": 110,
     "metadata": {},
     "output_type": "execute_result"
    }
   ],
   "source": [
    "1 + 2"
   ]
  },
  {
   "cell_type": "code",
   "execution_count": 111,
   "id": "b92e2f0a-7cc0-44e4-88ee-8e5f8389c9bd",
   "metadata": {
    "tags": []
   },
   "outputs": [
    {
     "data": {
      "text/plain": [
       "'12'"
      ]
     },
     "execution_count": 111,
     "metadata": {},
     "output_type": "execute_result"
    }
   ],
   "source": [
    "\"1\" + \"2\""
   ]
  },
  {
   "cell_type": "code",
   "execution_count": 112,
   "id": "089dd4c5-caa4-4934-88f9-14a0b63cc512",
   "metadata": {
    "tags": []
   },
   "outputs": [],
   "source": [
    "class Txt:\n",
    "    def __init__(self, txt):\n",
    "        self.txt = txt\n",
    "        \n",
    "    def __eq__(self, txt_obj):\n",
    "        return self.txt.lower() == txt_obj.txt.lower()\n",
    "    \n",
    "    def __repr__(self):\n",
    "        return \"Txt(txt={})\".format(self.txt)\n",
    "    \n",
    "    def __str__(self):\n",
    "        return self.txt"
   ]
  },
  {
   "cell_type": "code",
   "execution_count": 113,
   "id": "bf47be30-46e6-4526-a6e9-1f7e89c55acc",
   "metadata": {
    "tags": []
   },
   "outputs": [],
   "source": [
    "t1 = Txt(\"python\")\n",
    "t2 = Txt(\"Python\")\n",
    "t3 = t1"
   ]
  },
  {
   "cell_type": "code",
   "execution_count": 114,
   "id": "1f4cc6fe-7749-4cad-92e7-34b26cae285c",
   "metadata": {
    "tags": []
   },
   "outputs": [
    {
     "data": {
      "text/plain": [
       "(True, True, True)"
      ]
     },
     "execution_count": 114,
     "metadata": {},
     "output_type": "execute_result"
    }
   ],
   "source": [
    "t1 == t2, t1 == t3, t2 == t3"
   ]
  },
  {
   "cell_type": "code",
   "execution_count": 115,
   "id": "9cf0d998-cd98-4d9c-9cf9-73e87941a92d",
   "metadata": {
    "tags": []
   },
   "outputs": [
    {
     "data": {
      "text/plain": [
       "Txt(txt=python)"
      ]
     },
     "execution_count": 115,
     "metadata": {},
     "output_type": "execute_result"
    }
   ],
   "source": [
    "t1"
   ]
  },
  {
   "cell_type": "code",
   "execution_count": 116,
   "id": "a850105d-7d4e-4232-b9b1-7698724497d6",
   "metadata": {
    "tags": []
   },
   "outputs": [
    {
     "name": "stdout",
     "output_type": "stream",
     "text": [
      "python\n"
     ]
    }
   ],
   "source": [
    "print(t1)"
   ]
  },
  {
   "cell_type": "code",
   "execution_count": 117,
   "id": "94007f72-fafc-4e73-9d90-e4906d2a9fe0",
   "metadata": {
    "tags": []
   },
   "outputs": [
    {
     "data": {
      "text/plain": [
       "range(0, 5)"
      ]
     },
     "execution_count": 117,
     "metadata": {},
     "output_type": "execute_result"
    }
   ],
   "source": [
    "range(5)"
   ]
  },
  {
   "cell_type": "code",
   "execution_count": null,
   "id": "363ed951-9528-4620-8a9c-f09b1c62ca61",
   "metadata": {},
   "outputs": [],
   "source": []
  }
 ],
 "metadata": {
  "kernelspec": {
   "display_name": "Python 3 (ipykernel)",
   "language": "python",
   "name": "python3"
  },
  "language_info": {
   "codemirror_mode": {
    "name": "ipython",
    "version": 3
   },
   "file_extension": ".py",
   "mimetype": "text/x-python",
   "name": "python",
   "nbconvert_exporter": "python",
   "pygments_lexer": "ipython3",
   "version": "3.11.5"
  }
 },
 "nbformat": 4,
 "nbformat_minor": 5
}
