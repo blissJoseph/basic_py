{
 "cells": [
  {
   "cell_type": "markdown",
   "id": "457fd530-7d1b-4e41-9683-fb9a0c7d295e",
   "metadata": {
    "tags": []
   },
   "source": [
    "## 파이썬의 기본 문법"
   ]
  },
  {
   "cell_type": "markdown",
   "id": "8b2df939-2fdd-4978-84aa-fbe5b56a51a9",
   "metadata": {
    "tags": []
   },
   "source": [
    "- 변수 선언, 식별자, 자료형, 형변환, 연산자"
   ]
  },
  {
   "cell_type": "markdown",
   "id": "80ee1384-046c-443c-ba65-0b16c3cf6036",
   "metadata": {
    "jp-MarkdownHeadingCollapsed": true,
    "tags": []
   },
   "source": [
    "### 1. 주석(comment)과 출력(print)\n"
   ]
  },
  {
   "cell_type": "markdown",
   "id": "12112116-fff8-4238-b4e7-83a12eecbe26",
   "metadata": {},
   "source": [
    "- 주석 : 앞에 #를 붙이면 코드가 실행되지 않는다.\n",
    "    - 코드에 대한 설명이나 중간에 코드를 실행시키고 싶지 않을 때 사용\n",
    "    - 단축키 :  ctrl(cmd) + /\n",
    "    - 블럭설정 : shift + 방향키"
   ]
  },
  {
   "cell_type": "code",
   "execution_count": 9,
   "id": "bd70851a-f259-41e9-bc8e-d9c392486261",
   "metadata": {
    "tags": []
   },
   "outputs": [],
   "source": [
    "# print(1)\n",
    "# print(2)\n",
    "# print(3)"
   ]
  },
  {
   "cell_type": "markdown",
   "id": "60cfeb62-1d89-4e6f-902c-1869fa83f6e3",
   "metadata": {
    "tags": []
   },
   "source": [
    "- 출력 : print함수\n",
    "    - 코드 중간에 변수에 들어있는 값을 확인하고 싶을때 사용"
   ]
  },
  {
   "cell_type": "code",
   "execution_count": 10,
   "id": "9220569c-473c-4c25-89f9-c63e54dcdd57",
   "metadata": {
    "tags": []
   },
   "outputs": [
    {
     "name": "stdout",
     "output_type": "stream",
     "text": [
      "1 2\n",
      "3\n"
     ]
    }
   ],
   "source": [
    "print(1, 2)\n",
    "print(3)"
   ]
  },
  {
   "cell_type": "markdown",
   "id": "5826911b-0c37-4059-b5fe-e44f514142cb",
   "metadata": {
    "tags": []
   },
   "source": [
    "#### <span style=\"color:red; font-weight: bold\"> docstring </span>\n",
    "- 함수에 대한 설명\n",
    "- 단축키 : shift + tab"
   ]
  },
  {
   "cell_type": "code",
   "execution_count": 11,
   "id": "8877494b-3ada-4c90-919b-ddbee7d2e6be",
   "metadata": {
    "tags": []
   },
   "outputs": [
    {
     "name": "stdout",
     "output_type": "stream",
     "text": [
      "12\n"
     ]
    }
   ],
   "source": [
    "print(1, 2, sep='',)\n"
   ]
  },
  {
   "cell_type": "markdown",
   "id": "70d0858e-19c4-4d1e-96fa-616ff6a2636a",
   "metadata": {},
   "source": [
    "#### <span style=\"color:red; font-weight: bold\"> 자동완성 </span>\n",
    "- 단축키 : tab"
   ]
  },
  {
   "cell_type": "markdown",
   "id": "59b5ce13-37e7-4e61-ba8d-7989de434147",
   "metadata": {
    "jp-MarkdownHeadingCollapsed": true,
    "tags": []
   },
   "source": [
    "### 2. 변수선언\n",
    "- RAM 저장장치에 값을 할당"
   ]
  },
  {
   "cell_type": "code",
   "execution_count": 15,
   "id": "053a7962-402f-4d2e-8ba3-9e9c57af6edf",
   "metadata": {
    "tags": []
   },
   "outputs": [],
   "source": [
    "a = 1\n",
    "b, c = 2, 3\n",
    "d = e = 6"
   ]
  },
  {
   "cell_type": "markdown",
   "id": "847b4699-6923-4d80-9f73-eadecdcdd752",
   "metadata": {
    "jp-MarkdownHeadingCollapsed": true,
    "tags": []
   },
   "source": [
    "### 3. 식별자"
   ]
  },
  {
   "cell_type": "markdown",
   "id": "2da8999d-035e-4c52-93b2-27067e0f7f80",
   "metadata": {},
   "source": [
    "- 변수, 함수, 클래스, 모듈 등의 이름을 식별자라고 한다\n",
    "- 식별자 규칙\n",
    "    - 소문자, 대문자, 숫자, 언더바를 사용\n",
    "    - 가장 앞에 숫자 사용 불가\n",
    "    - 예약어 사용 불가 : def, class, try, execpt 등\n",
    "    - convention \n",
    "        - snake case(변수, 함수) : fast_campus  \n",
    "        - camel case(클래스) : FastCampus, fastCampus "
   ]
  },
  {
   "cell_type": "markdown",
   "id": "43406894-121d-4341-ac87-c1e7038c8d97",
   "metadata": {
    "jp-MarkdownHeadingCollapsed": true,
    "tags": []
   },
   "source": [
    "### 4. 데이터 타입"
   ]
  },
  {
   "cell_type": "markdown",
   "id": "5d45edd7-7cce-4fdf-ba3e-7ff761c02362",
   "metadata": {},
   "source": [
    "- RAM 저장공간을 효율적으로 사용하기 위해서 저장공간의 타입을 설정\n",
    "- 동적타이핑\n",
    "    - 변수 선언시 저장되는 값에 따라서 자동으로 데이터 타입이 설정\n",
    "    - 예로 c언어는 int a= 6와 같이 데이터 타입을 선언해 주어야 한다\n",
    "- 기본 데이터 타입 \n",
    "    - bool : True, False\n",
    "    - int : 정수\n",
    "    - float : 상수\n",
    "    - str : 문자열\n",
    "- collection 데이터 타입\n",
    "    - list : 순서가 있고, 수정이 가능\n",
    "    - tuple : 순서가 있고, 수정이 불가 / 같은 데이터를 가졌을 때 리스트 보다 자원을 덜 사용함\n",
    "    - dict : 순서가 없고, key : value 형태로 구성\n",
    "    "
   ]
  },
  {
   "cell_type": "code",
   "execution_count": 69,
   "id": "74addb36-9b7c-4994-9c61-709be5b6c57c",
   "metadata": {
    "tags": []
   },
   "outputs": [],
   "source": [
    "### 기본 데이터 타입\n"
   ]
  },
  {
   "cell_type": "code",
   "execution_count": 70,
   "id": "a64a9fb8-4777-43b1-9953-6d17072ecbfe",
   "metadata": {
    "tags": []
   },
   "outputs": [
    {
     "data": {
      "text/plain": [
       "(int, str)"
      ]
     },
     "execution_count": 70,
     "metadata": {},
     "output_type": "execute_result"
    }
   ],
   "source": [
    "a = 1\n",
    "b = \"python\"\n",
    "type(a), type(b)"
   ]
  },
  {
   "cell_type": "code",
   "execution_count": 71,
   "id": "2fe7a161-01df-48e4-a80a-55db67ce71a2",
   "metadata": {
    "tags": []
   },
   "outputs": [
    {
     "data": {
      "text/plain": [
       "(bool, int, float, str)"
      ]
     },
     "execution_count": 71,
     "metadata": {},
     "output_type": "execute_result"
    }
   ],
   "source": [
    "## 기본 데이터 타입\n",
    "aa = True\n",
    "ab = 1\n",
    "ac = 2.2\n",
    "ad = \"ad\"\n",
    "type(aa),type(ab),type(ac),type(ad),\n"
   ]
  },
  {
   "cell_type": "markdown",
   "id": "5e719327-05b6-4f99-b096-a67bba8f4cc3",
   "metadata": {
    "jp-MarkdownHeadingCollapsed": true,
    "tags": []
   },
   "source": [
    "#### <span style=\"color:red; font-weight: bold\"> 데이터 타입의 함수 </span>\n"
   ]
  },
  {
   "cell_type": "markdown",
   "id": "78e71b28-8322-4b64-9ca0-450d19e03232",
   "metadata": {},
   "source": [
    "- 데이터 타입(bool, int, float, str, list, tuple, dir)이 가지고 있는 함수가 있다\n",
    "- 각 데이터 타입이 가진 함수는 다르다. \n",
    "- 함수 확인 방법\n",
    "    - dir(변수)"
   ]
  },
  {
   "cell_type": "code",
   "execution_count": 72,
   "id": "9600967d-765e-4620-a1d7-6c43587e5fcc",
   "metadata": {
    "tags": []
   },
   "outputs": [
    {
     "data": {
      "text/plain": [
       "('ad', 'AD')"
      ]
     },
     "execution_count": 72,
     "metadata": {},
     "output_type": "execute_result"
    }
   ],
   "source": [
    "AD = ad.upper()\n",
    "\n",
    "ad, AD"
   ]
  },
  {
   "cell_type": "markdown",
   "id": "1a6b9bba-e1d0-48a2-93ee-be645789514c",
   "metadata": {
    "jp-MarkdownHeadingCollapsed": true,
    "tags": []
   },
   "source": [
    "#### <span style=\"color:red; font-weight: bold\"> offset index </span>\n"
   ]
  },
  {
   "cell_type": "markdown",
   "id": "6c350c8e-af51-4a2f-84ba-7ee022a79314",
   "metadata": {},
   "source": [
    "- 문자열은 순서가 있는 문자들의 집합\n",
    "- 마스킹을 통해 사용 :[]"
   ]
  },
  {
   "cell_type": "code",
   "execution_count": 73,
   "id": "d53aeb2a-8324-4866-9678-1d6c7f0dcb7c",
   "metadata": {
    "tags": []
   },
   "outputs": [
    {
     "data": {
      "text/plain": [
       "('d', 'd', 'cde', 'cdef', 'ab', 'ace')"
      ]
     },
     "execution_count": 73,
     "metadata": {},
     "output_type": "execute_result"
    }
   ],
   "source": [
    "q = \"abcdef\"\n",
    "q[3], q[-3], q[2:5], q[2:], q[:2], q[::2]"
   ]
  },
  {
   "cell_type": "code",
   "execution_count": 74,
   "id": "76f5a266-6126-4ed4-a334-02633063cc3d",
   "metadata": {
    "tags": []
   },
   "outputs": [],
   "source": [
    "## collection 데이터 타입"
   ]
  },
  {
   "cell_type": "code",
   "execution_count": 75,
   "id": "7cdc4de8-274a-4f23-b230-10d40bf216c5",
   "metadata": {
    "tags": []
   },
   "outputs": [
    {
     "data": {
      "text/plain": [
       "([False, True, 1, 2, 3, 'four', [5, 6], 7.7], 2, [False, True, 1], [5, 6])"
      ]
     },
     "execution_count": 75,
     "metadata": {},
     "output_type": "execute_result"
    }
   ],
   "source": [
    "ls = [False, True, 1, 2, 3, \"four\", [5, 6], 7.7] \n",
    "ls, ls[3], ls[:3], ls[-2]"
   ]
  },
  {
   "cell_type": "code",
   "execution_count": 76,
   "id": "c07e349d-e355-4e94-b13d-187b1a8ea99c",
   "metadata": {
    "tags": []
   },
   "outputs": [
    {
     "data": {
      "text/plain": [
       "[1, 3, 2, 19, 4, 100]"
      ]
     },
     "execution_count": 76,
     "metadata": {},
     "output_type": "execute_result"
    }
   ],
   "source": [
    "ls = [1,3,2,19,4]\n",
    "ls.append(100)\n",
    "ls"
   ]
  },
  {
   "cell_type": "code",
   "execution_count": 77,
   "id": "1f37c991-7c01-47a7-80f4-3ae4e9e67f7a",
   "metadata": {
    "tags": []
   },
   "outputs": [
    {
     "data": {
      "text/plain": [
       "[1, 2, 3, 4, 19, 100]"
      ]
     },
     "execution_count": 77,
     "metadata": {},
     "output_type": "execute_result"
    }
   ],
   "source": [
    "ls.sort()\n",
    "ls"
   ]
  },
  {
   "cell_type": "code",
   "execution_count": 78,
   "id": "344b0072-37ab-4591-bad6-3f19c9ded8f8",
   "metadata": {
    "tags": []
   },
   "outputs": [
    {
     "data": {
      "text/plain": [
       "[1, 2, 3, 4, 19]"
      ]
     },
     "execution_count": 78,
     "metadata": {},
     "output_type": "execute_result"
    }
   ],
   "source": [
    "ls.pop()\n",
    "ls"
   ]
  },
  {
   "cell_type": "markdown",
   "id": "581cb229-ab70-4a14-959d-b6097aa32a8f",
   "metadata": {},
   "source": [
    "<span style=\"color:red; font-weight: bold\"> list 복사 </span>\n"
   ]
  },
  {
   "cell_type": "code",
   "execution_count": 79,
   "id": "5d8f9180-4526-4728-b92c-18de0344f0d4",
   "metadata": {
    "tags": []
   },
   "outputs": [],
   "source": [
    "### 주소값 복사"
   ]
  },
  {
   "cell_type": "code",
   "execution_count": 80,
   "id": "3f1e7cb0-1004-40b4-8636-a631f9a67d5c",
   "metadata": {
    "tags": []
   },
   "outputs": [
    {
     "data": {
      "text/plain": [
       "([1, 2, 3], [1, 2, 3])"
      ]
     },
     "execution_count": 80,
     "metadata": {},
     "output_type": "execute_result"
    }
   ],
   "source": [
    "ls1 = [1, 2, 3]\n",
    "ls2 = ls1\n",
    "ls1, ls2"
   ]
  },
  {
   "cell_type": "code",
   "execution_count": 81,
   "id": "0b58d683-8f4c-4ea7-aafb-2dac5ebace04",
   "metadata": {
    "tags": []
   },
   "outputs": [
    {
     "data": {
      "text/plain": [
       "([1, 2, 5], [1, 2, 5])"
      ]
     },
     "execution_count": 81,
     "metadata": {},
     "output_type": "execute_result"
    }
   ],
   "source": [
    "ls1[2] = 5\n",
    "ls1, ls2"
   ]
  },
  {
   "cell_type": "code",
   "execution_count": 82,
   "id": "e2a1ea0f-418f-4612-b0a0-5778fb08685c",
   "metadata": {
    "tags": []
   },
   "outputs": [],
   "source": [
    "### 리스트 복사"
   ]
  },
  {
   "cell_type": "code",
   "execution_count": 83,
   "id": "6d23322d-aa90-4275-b3c9-1777fe16369f",
   "metadata": {
    "tags": []
   },
   "outputs": [
    {
     "data": {
      "text/plain": [
       "([1, 2, 5], [1, 2, 5])"
      ]
     },
     "execution_count": 83,
     "metadata": {},
     "output_type": "execute_result"
    }
   ],
   "source": [
    "ls3 = ls1.copy()\n",
    "ls1, ls3"
   ]
  },
  {
   "cell_type": "code",
   "execution_count": 84,
   "id": "8f4920b7-c65d-48b2-a321-78edc9b04d71",
   "metadata": {
    "tags": []
   },
   "outputs": [
    {
     "data": {
      "text/plain": [
       "([1, 2, 10], [1, 2, 5])"
      ]
     },
     "execution_count": 84,
     "metadata": {},
     "output_type": "execute_result"
    }
   ],
   "source": [
    "ls1[2] = 10\n",
    "ls1, ls3"
   ]
  },
  {
   "cell_type": "code",
   "execution_count": 85,
   "id": "0af6998a-9a24-48c7-8c6b-aa1c2578a18b",
   "metadata": {
    "tags": []
   },
   "outputs": [],
   "source": [
    "### 튜플 선언\n"
   ]
  },
  {
   "cell_type": "code",
   "execution_count": 91,
   "id": "b949e09f-d802-4429-8daa-92c5b30ad285",
   "metadata": {
    "tags": []
   },
   "outputs": [
    {
     "data": {
      "text/plain": [
       "(tuple, tuple, (1, 2, 3), (1, 2, 3))"
      ]
     },
     "execution_count": 91,
     "metadata": {},
     "output_type": "execute_result"
    }
   ],
   "source": [
    "tp1 = 1, 2, 3\n",
    "tp2 = (1, 2, 3)\n",
    "type(tp1), type(tp2), tp1, tp2\n"
   ]
  },
  {
   "cell_type": "code",
   "execution_count": 93,
   "id": "92500a7d-d947-44f9-b660-1b1f80a05725",
   "metadata": {
    "tags": []
   },
   "outputs": [
    {
     "data": {
      "text/plain": [
       "tuple"
      ]
     },
     "execution_count": 93,
     "metadata": {},
     "output_type": "execute_result"
    }
   ],
   "source": [
    "a, b = 1, 2\n",
    "c = a, b\n",
    "type(c)"
   ]
  },
  {
   "cell_type": "markdown",
   "id": "ef302e75-539d-4de0-b42d-4e9d93520450",
   "metadata": {},
   "source": [
    "<span style=\"color:red; font-weight: bold\"> tuple vs list 저장공간 비교 </span>\n"
   ]
  },
  {
   "cell_type": "code",
   "execution_count": 96,
   "id": "51601945-35a3-41b4-882c-6112a2b1f570",
   "metadata": {
    "tags": []
   },
   "outputs": [
    {
     "name": "stdout",
     "output_type": "stream",
     "text": [
      "136 112\n"
     ]
    }
   ],
   "source": [
    "import sys\n",
    "\n",
    "ls1 = [1, 2, 3, 4, 5, 6, 7, 8, 10000000000]\n",
    "ls2 = (1, 2, 3, 4, 5, 6, 7, 8, 10000000000)\n",
    "print(sys.getsizeof(ls1), sys.getsizeof(ls2))"
   ]
  },
  {
   "cell_type": "code",
   "execution_count": 99,
   "id": "ebe11984-6a0b-493e-b9dd-019d4858812f",
   "metadata": {
    "tags": []
   },
   "outputs": [],
   "source": [
    "### dictionary 선언\n"
   ]
  },
  {
   "cell_type": "code",
   "execution_count": 101,
   "id": "6d691ae5-6a77-4fa5-a2c3-aada80ee5ff0",
   "metadata": {
    "tags": []
   },
   "outputs": [
    {
     "data": {
      "text/plain": [
       "{1: 'one', 'two': 2, 'tree': [1, 2, 3]}"
      ]
     },
     "execution_count": 101,
     "metadata": {},
     "output_type": "execute_result"
    }
   ],
   "source": [
    "dic = {\n",
    "    1 : \"one\",\n",
    "    \"two\" : 2,\n",
    "    \"tree\" : [1, 2, 3]\n",
    "}\n",
    "dic"
   ]
  },
  {
   "cell_type": "code",
   "execution_count": 103,
   "id": "2f24e684-4226-4397-871a-7525452442e2",
   "metadata": {
    "tags": []
   },
   "outputs": [
    {
     "data": {
      "text/plain": [
       "('one', 2)"
      ]
     },
     "execution_count": 103,
     "metadata": {},
     "output_type": "execute_result"
    }
   ],
   "source": [
    "dic[1], dic[\"two\"]"
   ]
  },
  {
   "cell_type": "code",
   "execution_count": 104,
   "id": "789aa5bc-39fe-45e8-b162-9a400bd3ed9f",
   "metadata": {
    "tags": []
   },
   "outputs": [
    {
     "data": {
      "text/plain": [
       "{1: 44, 'two': 2, 'tree': [1, 2, 3]}"
      ]
     },
     "execution_count": 104,
     "metadata": {},
     "output_type": "execute_result"
    }
   ],
   "source": [
    "dic[1] = 44\n",
    "dic"
   ]
  },
  {
   "cell_type": "markdown",
   "id": "9b50704a-cde2-4b1a-b04f-0a849c0bb77e",
   "metadata": {
    "jp-MarkdownHeadingCollapsed": true,
    "tags": []
   },
   "source": [
    "### 5. 형변환"
   ]
  },
  {
   "cell_type": "markdown",
   "id": "5451306a-91af-4589-b022-f84c21471865",
   "metadata": {},
   "source": [
    "- 데이터 타입을 변환"
   ]
  },
  {
   "cell_type": "code",
   "execution_count": 107,
   "id": "52177f35-3880-453e-9fcc-7fa0c6bf374b",
   "metadata": {
    "tags": []
   },
   "outputs": [
    {
     "data": {
      "text/plain": [
       "3"
      ]
     },
     "execution_count": 107,
     "metadata": {},
     "output_type": "execute_result"
    }
   ],
   "source": [
    "a = 1\n",
    "b = \"2\"\n",
    "a + int(2)"
   ]
  },
  {
   "cell_type": "code",
   "execution_count": 108,
   "id": "f3474225-bde6-405f-ad4e-d333e4294cdd",
   "metadata": {
    "tags": []
   },
   "outputs": [
    {
     "data": {
      "text/plain": [
       "'12'"
      ]
     },
     "execution_count": 108,
     "metadata": {},
     "output_type": "execute_result"
    }
   ],
   "source": [
    "str(a)+b"
   ]
  },
  {
   "cell_type": "markdown",
   "id": "210cd654-210b-4d90-9c24-87e2b3a73ba4",
   "metadata": {
    "jp-MarkdownHeadingCollapsed": true,
    "tags": []
   },
   "source": [
    "### 6. 연산자"
   ]
  },
  {
   "cell_type": "markdown",
   "id": "0395c0ab-b5e8-4116-a68c-e37a8e9d5a63",
   "metadata": {},
   "source": [
    "- 산술연산자 : +, -, *, /, //, **, %\n",
    "- 할당연산자 : +=, -=, *=, /= 등\n",
    "- 비교연산자 : >, <, ==, !=, >=, <=\n",
    "- 논리연산자 : True와 False를 연산\n",
    "- 멤버연산자 : 특정 데이터가 있는지 확인: not in, in"
   ]
  },
  {
   "cell_type": "code",
   "execution_count": 110,
   "id": "d86e1524-6c3e-4092-af8c-e9b3281abac8",
   "metadata": {
    "tags": []
   },
   "outputs": [
    {
     "data": {
      "text/plain": [
       "(True, False, True)"
      ]
     },
     "execution_count": 110,
     "metadata": {},
     "output_type": "execute_result"
    }
   ],
   "source": [
    "ls = [\"jin\", \"tom\", \"jenny\"]\n",
    "\"jenny\" in ls, \"asic\" in ls,\"asics\" not in ls"
   ]
  }
 ],
 "metadata": {
  "kernelspec": {
   "display_name": "Python 3 (ipykernel)",
   "language": "python",
   "name": "python3"
  },
  "language_info": {
   "codemirror_mode": {
    "name": "ipython",
    "version": 3
   },
   "file_extension": ".py",
   "mimetype": "text/x-python",
   "name": "python",
   "nbconvert_exporter": "python",
   "pygments_lexer": "ipython3",
   "version": "3.11.5"
  }
 },
 "nbformat": 4,
 "nbformat_minor": 5
}
