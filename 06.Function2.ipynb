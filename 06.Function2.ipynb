{
 "cells": [
  {
   "cell_type": "markdown",
   "id": "2337e18e-28df-4bf8-a954-35f9d32a0135",
   "metadata": {
    "tags": []
   },
   "source": [
    "## 06.함수2"
   ]
  },
  {
   "cell_type": "markdown",
   "id": "f9c29a36-cbe7-4235-93aa-a39d75919935",
   "metadata": {},
   "source": [
    "- docstring\n",
    "- scope\n",
    "- inner function\n",
    "- lambda function\n",
    "- map, filter, reduce\n",
    "- decorlator"
   ]
  },
  {
   "cell_type": "markdown",
   "id": "58c9bf74-d60b-46ca-849f-9463c746e1a8",
   "metadata": {},
   "source": [
    "### 6.1 docstring"
   ]
  },
  {
   "cell_type": "markdown",
   "id": "5c253928-1882-44d5-bd2b-8490e0f8cb1f",
   "metadata": {},
   "source": [
    "- 함수의 설명을 작성"
   ]
  },
  {
   "cell_type": "markdown",
   "id": "063b277d-07b4-4fa8-9167-7ebb22f8185f",
   "metadata": {},
   "source": [
    "#### 6.1.1 예제1"
   ]
  },
  {
   "cell_type": "code",
   "execution_count": 4,
   "id": "5ffa923d-4fce-418f-ac22-7ed98d6c7f0b",
   "metadata": {
    "tags": []
   },
   "outputs": [],
   "source": [
    "def echo(msg):\n",
    "    \"echo print msg\"\n",
    "    print(msg)"
   ]
  },
  {
   "cell_type": "code",
   "execution_count": 6,
   "id": "78b51269-ae7a-4057-b605-7b96a4cd8b08",
   "metadata": {
    "tags": []
   },
   "outputs": [
    {
     "data": {
      "text/plain": [
       "<function __main__.echo(msg)>"
      ]
     },
     "execution_count": 6,
     "metadata": {},
     "output_type": "execute_result"
    }
   ],
   "source": [
    "echo "
   ]
  },
  {
   "cell_type": "code",
   "execution_count": 10,
   "id": "e2e01831-9e39-4e5c-9889-6cff075f5a2e",
   "metadata": {
    "tags": []
   },
   "outputs": [],
   "source": [
    "def echo(msg):\n",
    "    \"\"\"\n",
    "    echo func return its input argument\n",
    "    The opreration is:\n",
    "        1. print msg parameter\n",
    "        2. return msg parameter\n",
    "    param : msg :str\n",
    "    return : str\n",
    "    \"\"\"\n",
    "    print(msg)\n",
    "    return msg"
   ]
  },
  {
   "cell_type": "code",
   "execution_count": 12,
   "id": "64aaf785-f3cd-474f-9acf-d87115107260",
   "metadata": {
    "tags": []
   },
   "outputs": [
    {
     "data": {
      "text/plain": [
       "<function __main__.echo(msg)>"
      ]
     },
     "execution_count": 12,
     "metadata": {},
     "output_type": "execute_result"
    }
   ],
   "source": [
    "echo"
   ]
  },
  {
   "cell_type": "code",
   "execution_count": 13,
   "id": "53f56e60-50f9-47fa-ae0d-b99a76cd7ff3",
   "metadata": {
    "tags": []
   },
   "outputs": [
    {
     "data": {
      "text/plain": [
       "\u001b[0;31mSignature:\u001b[0m \u001b[0mecho\u001b[0m\u001b[0;34m(\u001b[0m\u001b[0mmsg\u001b[0m\u001b[0;34m)\u001b[0m\u001b[0;34m\u001b[0m\u001b[0;34m\u001b[0m\u001b[0m\n",
       "\u001b[0;31mDocstring:\u001b[0m\n",
       "echo func return its input argument\n",
       "The opreration is:\n",
       "    1. print msg parameter\n",
       "    2. return msg parameter\n",
       "param : msg :str\n",
       "return : str\n",
       "\u001b[0;31mFile:\u001b[0m      /var/folders/y8/hnlr5qhj4sn85k5dp_n0bpy00000gn/T/ipykernel_78779/1180820828.py\n",
       "\u001b[0;31mType:\u001b[0m      function"
      ]
     },
     "metadata": {},
     "output_type": "display_data"
    }
   ],
   "source": [
    "echo?"
   ]
  },
  {
   "cell_type": "code",
   "execution_count": 14,
   "id": "a07664bb-2aa3-4b88-8e85-7c8692836ee4",
   "metadata": {
    "tags": []
   },
   "outputs": [
    {
     "data": {
      "text/plain": [
       "\u001b[0;31mSignature:\u001b[0m \u001b[0mecho\u001b[0m\u001b[0;34m(\u001b[0m\u001b[0mmsg\u001b[0m\u001b[0;34m)\u001b[0m\u001b[0;34m\u001b[0m\u001b[0;34m\u001b[0m\u001b[0m\n",
       "\u001b[0;31mSource:\u001b[0m   \n",
       "\u001b[0;32mdef\u001b[0m \u001b[0mecho\u001b[0m\u001b[0;34m(\u001b[0m\u001b[0mmsg\u001b[0m\u001b[0;34m)\u001b[0m\u001b[0;34m:\u001b[0m\u001b[0;34m\u001b[0m\n",
       "\u001b[0;34m\u001b[0m    \u001b[0;34m\"\"\"\u001b[0m\n",
       "\u001b[0;34m    echo func return its input argument\u001b[0m\n",
       "\u001b[0;34m    The opreration is:\u001b[0m\n",
       "\u001b[0;34m        1. print msg parameter\u001b[0m\n",
       "\u001b[0;34m        2. return msg parameter\u001b[0m\n",
       "\u001b[0;34m    param : msg :str\u001b[0m\n",
       "\u001b[0;34m    return : str\u001b[0m\n",
       "\u001b[0;34m    \"\"\"\u001b[0m\u001b[0;34m\u001b[0m\n",
       "\u001b[0;34m\u001b[0m    \u001b[0mprint\u001b[0m\u001b[0;34m(\u001b[0m\u001b[0mmsg\u001b[0m\u001b[0;34m)\u001b[0m\u001b[0;34m\u001b[0m\n",
       "\u001b[0;34m\u001b[0m    \u001b[0;32mreturn\u001b[0m \u001b[0mmsg\u001b[0m\u001b[0;34m\u001b[0m\u001b[0;34m\u001b[0m\u001b[0m\n",
       "\u001b[0;31mFile:\u001b[0m      /var/folders/y8/hnlr5qhj4sn85k5dp_n0bpy00000gn/T/ipykernel_78779/1180820828.py\n",
       "\u001b[0;31mType:\u001b[0m      function"
      ]
     },
     "metadata": {},
     "output_type": "display_data"
    }
   ],
   "source": [
    "echo??"
   ]
  },
  {
   "cell_type": "code",
   "execution_count": 15,
   "id": "7356d557-0103-418d-8fb6-d1cf855289ca",
   "metadata": {
    "tags": []
   },
   "outputs": [
    {
     "name": "stdout",
     "output_type": "stream",
     "text": [
      "\n",
      "    echo func return its input argument\n",
      "    The opreration is:\n",
      "        1. print msg parameter\n",
      "        2. return msg parameter\n",
      "    param : msg :str\n",
      "    return : str\n",
      "    \n"
     ]
    }
   ],
   "source": [
    "print(echo.__doc__)"
   ]
  },
  {
   "cell_type": "markdown",
   "id": "8f8c4e1e-b58e-4a82-a3c5-27f452f33a0a",
   "metadata": {
    "tags": []
   },
   "source": [
    "### 6.2 scope 범위"
   ]
  },
  {
   "cell_type": "markdown",
   "id": "bfe4449d-7fda-4cce-a74e-3c267db4adc8",
   "metadata": {},
   "source": [
    "- 함수 안에서 선언되는 변수와 함수 밖에서 선언되는 변수의 범위가 다르다.\n",
    "- global(전역), local(지역)"
   ]
  },
  {
   "cell_type": "code",
   "execution_count": 77,
   "id": "9468aee2-cbcf-4714-97c8-106b3a2bf1fe",
   "metadata": {
    "tags": []
   },
   "outputs": [],
   "source": [
    "# global"
   ]
  },
  {
   "cell_type": "code",
   "execution_count": 78,
   "id": "60b15c06-d1dd-4e9e-aab3-c1eea76efefe",
   "metadata": {
    "tags": []
   },
   "outputs": [
    {
     "name": "stdout",
     "output_type": "stream",
     "text": [
      "10\n"
     ]
    }
   ],
   "source": [
    "gv = 10\n",
    "\n",
    "def echo():\n",
    "    print(gv)\n",
    "echo()"
   ]
  },
  {
   "cell_type": "code",
   "execution_count": 79,
   "id": "60ff80a8-7273-44da-a762-5af7cf89fab1",
   "metadata": {
    "tags": []
   },
   "outputs": [],
   "source": [
    "# local"
   ]
  },
  {
   "cell_type": "code",
   "execution_count": 81,
   "id": "d4075842-8594-4b21-be11-8426452b9bf2",
   "metadata": {
    "tags": []
   },
   "outputs": [
    {
     "name": "stdout",
     "output_type": "stream",
     "text": [
      "100\n"
     ]
    },
    {
     "data": {
      "text/plain": [
       "10"
      ]
     },
     "execution_count": 81,
     "metadata": {},
     "output_type": "execute_result"
    }
   ],
   "source": [
    "gv = 10\n",
    "\n",
    "def echo():\n",
    "    gv = 100\n",
    "    print(gv)\n",
    "echo()\n",
    "gv"
   ]
  },
  {
   "cell_type": "code",
   "execution_count": 82,
   "id": "75e81a66-d029-46da-acad-8165d3f2834a",
   "metadata": {
    "tags": []
   },
   "outputs": [
    {
     "name": "stdout",
     "output_type": "stream",
     "text": [
      "100\n"
     ]
    },
    {
     "data": {
      "text/plain": [
       "100"
      ]
     },
     "execution_count": 82,
     "metadata": {},
     "output_type": "execute_result"
    }
   ],
   "source": [
    "gv = 10\n",
    "\n",
    "def echo():\n",
    "    global gv\n",
    "    gv = 100\n",
    "    print(gv)\n",
    "\n",
    "echo()\n",
    "gv"
   ]
  },
  {
   "cell_type": "markdown",
   "id": "5d62a4ef-790b-4d79-a5d7-76fc830ea4cb",
   "metadata": {},
   "source": [
    "### 6.3 inner function\n"
   ]
  },
  {
   "cell_type": "markdown",
   "id": "9a11b112-3035-460a-9298-145633efb34b",
   "metadata": {},
   "source": [
    "- 함수가 지역영역에 선언, 함수 안에 함수가 선언"
   ]
  },
  {
   "cell_type": "markdown",
   "id": "56e4bb4d-8b3e-41ba-b931-5de096bd9ba9",
   "metadata": {},
   "source": [
    "#### 6.3.1 예제1"
   ]
  },
  {
   "cell_type": "code",
   "execution_count": 29,
   "id": "5fa6cb91-7ec1-4f26-b466-e3684ce459c2",
   "metadata": {
    "tags": []
   },
   "outputs": [],
   "source": [
    "def outer(a,b):\n",
    "    def inner(c,d):\n",
    "        return c + d\n",
    "    \n",
    "    return inner(a,b)"
   ]
  },
  {
   "cell_type": "code",
   "execution_count": 30,
   "id": "ee90cb63-43ff-4370-b4e4-d3ae56b0f91a",
   "metadata": {
    "tags": []
   },
   "outputs": [
    {
     "data": {
      "text/plain": [
       "3"
      ]
     },
     "execution_count": 30,
     "metadata": {},
     "output_type": "execute_result"
    }
   ],
   "source": [
    "outer(1,2)"
   ]
  },
  {
   "cell_type": "markdown",
   "id": "06813851-6b3f-4d0a-8cf3-36fc75ee45df",
   "metadata": {},
   "source": [
    "#### 6.3.2 예제2"
   ]
  },
  {
   "cell_type": "code",
   "execution_count": 36,
   "id": "eb2ea6a1-33bc-4f8d-a26e-6faf5fb9a81c",
   "metadata": {
    "tags": []
   },
   "outputs": [],
   "source": [
    "def outer(a,b):\n",
    "    \n",
    "    def inner(c,d):\n",
    "        return c+d\n",
    "    \n",
    "    return inner\n",
    "          "
   ]
  },
  {
   "cell_type": "code",
   "execution_count": 37,
   "id": "e81c5fed-4747-4f28-80d5-2cde65cc80fe",
   "metadata": {
    "tags": []
   },
   "outputs": [
    {
     "data": {
      "text/plain": [
       "7"
      ]
     },
     "execution_count": 37,
     "metadata": {},
     "output_type": "execute_result"
    }
   ],
   "source": [
    "outer(1, 2)(3, 4)"
   ]
  },
  {
   "cell_type": "code",
   "execution_count": 38,
   "id": "6c1378f5-b71a-4739-8646-f147bce528db",
   "metadata": {
    "tags": []
   },
   "outputs": [],
   "source": [
    "def inner(c,d):\n",
    "    return c + d\n",
    "def outer(a,b):\n",
    "    return inner"
   ]
  },
  {
   "cell_type": "code",
   "execution_count": 40,
   "id": "e2364457-1495-44bd-b78d-4195d40cc953",
   "metadata": {
    "tags": []
   },
   "outputs": [
    {
     "data": {
      "text/plain": [
       "7"
      ]
     },
     "execution_count": 40,
     "metadata": {},
     "output_type": "execute_result"
    }
   ],
   "source": [
    "outer(1, 2)(3, 4)"
   ]
  },
  {
   "cell_type": "markdown",
   "id": "ff8fb297-8ed2-4c09-a612-47039cdeb0ec",
   "metadata": {},
   "source": [
    "#### <span style=\"color:red; font-weight: bold\"> callback function </span>\n"
   ]
  },
  {
   "cell_type": "markdown",
   "id": "8c3ae612-4cb2-434c-bdaf-6585d44ac3ce",
   "metadata": {},
   "source": [
    "- 함수를 아규먼트 파라미터로 설정해서 사용 "
   ]
  },
  {
   "cell_type": "code",
   "execution_count": 42,
   "id": "fab81b4a-0b93-4ecb-9f96-974ccf1d5ae8",
   "metadata": {
    "tags": []
   },
   "outputs": [],
   "source": [
    "def calc(func, a, b):\n",
    "    #code\n",
    "    a **= 2\n",
    "    b **= 2\n",
    "    return func(a,b)"
   ]
  },
  {
   "cell_type": "code",
   "execution_count": 43,
   "id": "5fb71d7b-5ce1-4781-8e4f-0c6042d7fb62",
   "metadata": {
    "tags": []
   },
   "outputs": [],
   "source": [
    "def plus(a,b):\n",
    "    return a + b"
   ]
  },
  {
   "cell_type": "code",
   "execution_count": 45,
   "id": "12db1d7f-959a-412b-8ee7-556606d04873",
   "metadata": {
    "tags": []
   },
   "outputs": [],
   "source": [
    "def minus(a,b):\n",
    "    return a - b"
   ]
  },
  {
   "cell_type": "code",
   "execution_count": 46,
   "id": "406b152e-b832-4e3d-a1e2-c7e4af7b8c02",
   "metadata": {
    "tags": []
   },
   "outputs": [
    {
     "data": {
      "text/plain": [
       "5"
      ]
     },
     "execution_count": 46,
     "metadata": {},
     "output_type": "execute_result"
    }
   ],
   "source": [
    "calc(plus, 1, 2) "
   ]
  },
  {
   "cell_type": "code",
   "execution_count": 47,
   "id": "4ea4a69d-a84c-4148-883c-fc90e3d3c95b",
   "metadata": {
    "tags": []
   },
   "outputs": [
    {
     "data": {
      "text/plain": [
       "-3"
      ]
     },
     "execution_count": 47,
     "metadata": {},
     "output_type": "execute_result"
    }
   ],
   "source": [
    "calc(minus, 1, 2)"
   ]
  },
  {
   "cell_type": "markdown",
   "id": "60f024ac-ceb1-4c15-9dd9-dfedbbd768ab",
   "metadata": {},
   "source": [
    "### 6.4 lambda function"
   ]
  },
  {
   "cell_type": "markdown",
   "id": "0e3e2514-b2e8-4481-828f-d9f123e11478",
   "metadata": {},
   "source": [
    "- 파라미터를 간단한 계산으로 리턴되는 함수 : 삼항연산"
   ]
  },
  {
   "cell_type": "markdown",
   "id": "78676226-0a28-4f96-a003-e116edbf9426",
   "metadata": {
    "tags": []
   },
   "source": [
    "#### 6.4.1 예제1"
   ]
  },
  {
   "cell_type": "code",
   "execution_count": 49,
   "id": "293a512c-9a64-4e9c-af54-b4c90a186c3e",
   "metadata": {
    "tags": []
   },
   "outputs": [],
   "source": [
    "def plus(a,b):\n",
    "    return a + b"
   ]
  },
  {
   "cell_type": "code",
   "execution_count": 50,
   "id": "418ddb3d-04f7-4d13-b6a0-5620e74ebb20",
   "metadata": {
    "tags": []
   },
   "outputs": [
    {
     "data": {
      "text/plain": [
       "3"
      ]
     },
     "execution_count": 50,
     "metadata": {},
     "output_type": "execute_result"
    }
   ],
   "source": [
    "plus(1,2)"
   ]
  },
  {
   "cell_type": "code",
   "execution_count": 51,
   "id": "62430534-4757-474a-b735-9a503d8faba8",
   "metadata": {
    "tags": []
   },
   "outputs": [],
   "source": [
    "plus2 = lambda a, b: a+b"
   ]
  },
  {
   "cell_type": "code",
   "execution_count": 53,
   "id": "26032b85-d502-48e7-b906-eb7cb73026bd",
   "metadata": {
    "tags": []
   },
   "outputs": [
    {
     "data": {
      "text/plain": [
       "5"
      ]
     },
     "execution_count": 53,
     "metadata": {},
     "output_type": "execute_result"
    }
   ],
   "source": [
    "plus2(2,3)"
   ]
  },
  {
   "cell_type": "markdown",
   "id": "63b8c853-47e1-4ee1-9055-e0f417ca3dae",
   "metadata": {
    "tags": []
   },
   "source": [
    "#### 6.4.2 예제2"
   ]
  },
  {
   "cell_type": "code",
   "execution_count": 55,
   "id": "886a4de4-2aee-4223-8a10-9b27ce77e469",
   "metadata": {
    "tags": []
   },
   "outputs": [
    {
     "data": {
      "text/plain": [
       "144"
      ]
     },
     "execution_count": 55,
     "metadata": {},
     "output_type": "execute_result"
    }
   ],
   "source": [
    "calc(lambda a,b: a*b, 3,4)"
   ]
  },
  {
   "cell_type": "code",
   "execution_count": 56,
   "id": "65852eb4-978c-47a7-b311-eba038e260d8",
   "metadata": {
    "tags": []
   },
   "outputs": [
    {
     "data": {
      "text/plain": [
       "25"
      ]
     },
     "execution_count": 56,
     "metadata": {},
     "output_type": "execute_result"
    }
   ],
   "source": [
    "calc(plus, 3,4)"
   ]
  },
  {
   "cell_type": "markdown",
   "id": "0a173cf7-5906-4090-bc40-e839d5740ac8",
   "metadata": {},
   "source": [
    "### 6.5 map, filter, reduce "
   ]
  },
  {
   "cell_type": "markdown",
   "id": "64b0043a-3220-4a2e-8a25-56f8c0c38c10",
   "metadata": {},
   "source": [
    "#### map"
   ]
  },
  {
   "cell_type": "markdown",
   "id": "de96196a-af1a-4eaa-8e81-4af4fb441253",
   "metadata": {},
   "source": [
    "- 순서가 있는 데이터 집합에서 모든 값에 함수를 적용시킨 결과를 출력"
   ]
  },
  {
   "cell_type": "code",
   "execution_count": 66,
   "id": "5dd2baa1-ecfd-44ba-a840-b6688fed9357",
   "metadata": {
    "tags": []
   },
   "outputs": [
    {
     "data": {
      "text/plain": [
       "('odd', 'odd')"
      ]
     },
     "execution_count": 66,
     "metadata": {},
     "output_type": "execute_result"
    }
   ],
   "source": [
    "ls = [1, 2, 3, 4]\n",
    "\n",
    "def odd_even(num):\n",
    "    return \"odd\" if num % 2 else \"even\"\n",
    "odd_even(3), odd_even(3)"
   ]
  },
  {
   "cell_type": "code",
   "execution_count": 69,
   "id": "04e5e1ce-0239-42d7-a5f1-15a0ffdd600c",
   "metadata": {
    "tags": []
   },
   "outputs": [
    {
     "data": {
      "text/plain": [
       "['odd', 'even', 'odd', 'even']"
      ]
     },
     "execution_count": 69,
     "metadata": {},
     "output_type": "execute_result"
    }
   ],
   "source": [
    "list(map(odd_even, ls))"
   ]
  },
  {
   "cell_type": "markdown",
   "id": "34913e77-392a-4e89-8c35-88668fba6095",
   "metadata": {},
   "source": [
    "#### <span style=\"color:blue; font-weight: bold\"> 연습문제 </span>"
   ]
  },
  {
   "cell_type": "markdown",
   "id": "50d1a44b-9ae4-4351-a710-d009e67e6ecc",
   "metadata": {},
   "source": [
    "1. input 함수로 구분자는 \" \"으로 여러개의 숫자를 입력 받는다.\n",
    "2. str.split(\" \") 리스트로 만든다\n",
    "3. 만들어진 리스트의 값들을 int로 형변환"
   ]
  },
  {
   "cell_type": "code",
   "execution_count": 74,
   "id": "c59e71f2-3be1-4e5d-83ec-8c2dbe957143",
   "metadata": {
    "tags": []
   },
   "outputs": [
    {
     "name": "stdin",
     "output_type": "stream",
     "text": [
      "insert numbers :  10 20 30 40 50\n"
     ]
    }
   ],
   "source": [
    "datas = input(\"insert numbers : \")\n"
   ]
  },
  {
   "cell_type": "code",
   "execution_count": 75,
   "id": "b6876808-8204-41ee-a143-274a10bd26f4",
   "metadata": {
    "tags": []
   },
   "outputs": [
    {
     "data": {
      "text/plain": [
       "['10', '20', '30', '40', '50']"
      ]
     },
     "execution_count": 75,
     "metadata": {},
     "output_type": "execute_result"
    }
   ],
   "source": [
    "result = datas.split(\" \")\n",
    "result"
   ]
  },
  {
   "cell_type": "code",
   "execution_count": 76,
   "id": "848957c3-2cc1-45bc-bbf2-1600f5d1f7d3",
   "metadata": {
    "tags": []
   },
   "outputs": [
    {
     "data": {
      "text/plain": [
       "[10, 20, 30, 40, 50]"
      ]
     },
     "execution_count": 76,
     "metadata": {},
     "output_type": "execute_result"
    }
   ],
   "source": [
    "result = list(map(int, result))\n",
    "result"
   ]
  },
  {
   "cell_type": "markdown",
   "id": "f9c2f01a-54c7-4cff-a5ce-e4b3499cb9b5",
   "metadata": {
    "tags": []
   },
   "source": [
    "#### filter"
   ]
  },
  {
   "cell_type": "markdown",
   "id": "b4f1deaa-c373-4241-ac9f-7925031b17ed",
   "metadata": {},
   "source": [
    "- 리스트 데이터에서 특정 조건에 맞는 value만 남기는 함수"
   ]
  },
  {
   "cell_type": "code",
   "execution_count": 63,
   "id": "e4b745be-bb4f-4206-9bc0-e26f11ee3bdc",
   "metadata": {
    "tags": []
   },
   "outputs": [],
   "source": [
    "ls = range(10)"
   ]
  },
  {
   "cell_type": "code",
   "execution_count": 64,
   "id": "3bfb77a8-efc5-4598-a0a4-fe6317a6925f",
   "metadata": {
    "tags": []
   },
   "outputs": [
    {
     "data": {
      "text/plain": [
       "[1, 3, 5, 7, 9]"
      ]
     },
     "execution_count": 64,
     "metadata": {},
     "output_type": "execute_result"
    }
   ],
   "source": [
    "list(filter(lambda data: True if data % 2 else False, ls))"
   ]
  },
  {
   "cell_type": "markdown",
   "id": "1861613f-660f-4778-a346-d3aa682913ea",
   "metadata": {},
   "source": [
    "#### reduece"
   ]
  },
  {
   "cell_type": "markdown",
   "id": "85a8c591-d8aa-4eca-b412-41d458a75a20",
   "metadata": {
    "tags": []
   },
   "source": [
    "- 리스트 데이터를 처음으로 순서대로 특정 함수를 실행하여 누적시켜 주는 함수 \n",
    "\n"
   ]
  },
  {
   "cell_type": "code",
   "execution_count": 65,
   "id": "41a3861c-a67a-430f-a06d-82b4c83b70aa",
   "metadata": {
    "tags": []
   },
   "outputs": [
    {
     "data": {
      "text/plain": [
       "18"
      ]
     },
     "execution_count": 65,
     "metadata": {},
     "output_type": "execute_result"
    }
   ],
   "source": [
    "from functools import reduce\n",
    "\n",
    "ls =[ 3, 2,1, 2,4, 6]\n",
    "reduce(lambda x,y: x +y, ls)"
   ]
  },
  {
   "cell_type": "code",
   "execution_count": null,
   "id": "71618f94-b729-4c6d-9125-2b0e787adbb6",
   "metadata": {},
   "outputs": [],
   "source": []
  },
  {
   "cell_type": "markdown",
   "id": "c8b6c437-d06e-47ec-aaeb-b58defef8d03",
   "metadata": {},
   "source": [
    "### 6.6 docolator"
   ]
  },
  {
   "cell_type": "markdown",
   "id": "def428ce-1245-4760-b66c-90340780e21c",
   "metadata": {
    "tags": []
   },
   "source": [
    "- 함수에서 코드를 바꾸지 않고 기능을 추가하거나 수정하고 싶을 때 사용 <br>\n",
    "\n",
    "<span style=\"color:red;\">사용 전</span>\n",
    "```\n",
    "def a():\n",
    "    code_1\n",
    "    code_2\n",
    "    code_3\n",
    "    \n",
    "def b():\n",
    "    code_1\n",
    "    code_4\n",
    "    code_3\n",
    "```\n",
    "<span style=\"color:red;\">사용 후 </span>\n",
    "```\n",
    "def c(func):\n",
    "    def wrapper(*args, **kwargs):\n",
    "        code_1\n",
    "        result = func(*args, **kwagrs)\n",
    "        code_3\n",
    "        return result\n",
    "    return wrapper\n",
    "\n",
    "@c\n",
    "def a():\n",
    "    code_2\n",
    "@c\n",
    "def b():\n",
    "    code_4\n",
    "```"
   ]
  },
  {
   "cell_type": "markdown",
   "id": "1d02b0e5-549d-4896-8654-ba6e18d6b098",
   "metadata": {
    "tags": []
   },
   "source": [
    "#### 6.6.1 예제1"
   ]
  },
  {
   "cell_type": "code",
   "execution_count": 19,
   "id": "3d16c172-79e0-4a09-bd9e-ce46d6d85275",
   "metadata": {
    "tags": []
   },
   "outputs": [],
   "source": [
    "#a\n",
    "def plus(a,b):\n",
    "    print(\"start\")\n",
    "    result = a + b\n",
    "    print(\"result : {}\".format(result))\n",
    "    return result"
   ]
  },
  {
   "cell_type": "code",
   "execution_count": 20,
   "id": "7232e3fa-8230-4f99-99a9-6222cdbfda69",
   "metadata": {
    "tags": []
   },
   "outputs": [],
   "source": [
    "#b\n",
    "def minux(a,b):\n",
    "    print(\"start\")\n",
    "    result = a - b\n",
    "    print(\"result : {}\".format(result))\n",
    "    return result"
   ]
  },
  {
   "cell_type": "code",
   "execution_count": 21,
   "id": "9c739606-72b4-47f9-a8d2-7997de6bd322",
   "metadata": {
    "tags": []
   },
   "outputs": [],
   "source": [
    "#c\n",
    "def disp(func):\n",
    "    def wrapper(*args, **kwargs):\n",
    "        print(\"start\")\n",
    "        result = func(*args, **kwargs)\n",
    "        print(\"result : {}\".format(result))\n",
    "        return result\n",
    "    return wrapper"
   ]
  },
  {
   "cell_type": "code",
   "execution_count": 22,
   "id": "76ccd3d7-d99b-4f3b-bc40-b80a3a21eba1",
   "metadata": {
    "tags": []
   },
   "outputs": [],
   "source": [
    "@disp\n",
    "def plus(a,b):\n",
    "    result = a + b\n",
    "    return result"
   ]
  },
  {
   "cell_type": "code",
   "execution_count": 23,
   "id": "96dca5ad-1b53-4788-a1ff-a13fb01e8765",
   "metadata": {
    "tags": []
   },
   "outputs": [
    {
     "name": "stdout",
     "output_type": "stream",
     "text": [
      "start\n",
      "result : 3\n"
     ]
    },
    {
     "data": {
      "text/plain": [
       "3"
      ]
     },
     "execution_count": 23,
     "metadata": {},
     "output_type": "execute_result"
    }
   ],
   "source": [
    "plus(1,2 )"
   ]
  },
  {
   "cell_type": "markdown",
   "id": "d93cfb92-1061-4884-82aa-27b045a44454",
   "metadata": {},
   "source": [
    "#### <span style=\"color:blue; font-weight: bold\"> 연습문제 </span>"
   ]
  },
  {
   "cell_type": "markdown",
   "id": "20aeffdd-5571-41a7-8620-98ac631e91d6",
   "metadata": {},
   "source": [
    "- 함수의 실행 시간을 출력하는 데코레이터 함수를 작성"
   ]
  },
  {
   "cell_type": "code",
   "execution_count": null,
   "id": "07b25508-1780-4380-9289-1e638a727fc1",
   "metadata": {},
   "outputs": [],
   "source": []
  },
  {
   "cell_type": "markdown",
   "id": "0014dd65-4f66-4a78-99e4-0c57fe2b4768",
   "metadata": {},
   "source": [
    "#### <span style=\"color:blue; font-weight: bold\"> 연습문제2 </span>\n"
   ]
  },
  {
   "cell_type": "markdown",
   "id": "15fa54cc-8c96-4edb-bd9a-6cb35005e8c8",
   "metadata": {},
   "source": [
    "- 패스워드를 입력 받아야 함수가 실행되도록하는 데코레이터 작성 "
   ]
  },
  {
   "cell_type": "code",
   "execution_count": null,
   "id": "9939852b-c55e-42f5-8189-a6ac62949e86",
   "metadata": {},
   "outputs": [],
   "source": []
  }
 ],
 "metadata": {
  "kernelspec": {
   "display_name": "Python 3 (ipykernel)",
   "language": "python",
   "name": "python3"
  },
  "language_info": {
   "codemirror_mode": {
    "name": "ipython",
    "version": 3
   },
   "file_extension": ".py",
   "mimetype": "text/x-python",
   "name": "python",
   "nbconvert_exporter": "python",
   "pygments_lexer": "ipython3",
   "version": "3.11.5"
  }
 },
 "nbformat": 4,
 "nbformat_minor": 5
}
