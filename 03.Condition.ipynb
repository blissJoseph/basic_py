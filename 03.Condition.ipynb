{
 "cells": [
  {
   "cell_type": "markdown",
   "id": "4485a19e-a16a-4e2f-8c5e-4c6b8d558c0b",
   "metadata": {
    "tags": []
   },
   "source": [
    "## 조건문\n"
   ]
  },
  {
   "cell_type": "markdown",
   "id": "cebe9aa0-9081-4c42-8652-571fbe26d9b2",
   "metadata": {
    "tags": []
   },
   "source": [
    "- 특정 조건에 따라서 코드를 실행하고자 할 때 사용\n",
    "- if, else, elif\n",
    "- 조건부분에 bool 데이터 타입 이외에 데이터 타입이 오면 bool으로 형변환 되어 판단"
   ]
  },
  {
   "cell_type": "code",
   "execution_count": 4,
   "id": "4615736e-dd30-4c71-96d9-0888a8a6965b",
   "metadata": {
    "tags": []
   },
   "outputs": [
    {
     "name": "stdout",
     "output_type": "stream",
     "text": [
      "python\n",
      "done\n"
     ]
    }
   ],
   "source": [
    "if True:\n",
    "    print(\"python\")\n",
    "\n",
    "if False:\n",
    "    print(\"C#\")\n",
    "\n",
    "print(\"done\")"
   ]
  },
  {
   "cell_type": "code",
   "execution_count": 5,
   "id": "11cf6c3f-8016-4ecc-abd6-a66985dd8e87",
   "metadata": {
    "tags": []
   },
   "outputs": [
    {
     "data": {
      "text/plain": [
       "(False, True, True, True)"
      ]
     },
     "execution_count": 5,
     "metadata": {},
     "output_type": "execute_result"
    }
   ],
   "source": [
    "## int형\n",
    "bool(0), bool(1), bool(100), bool(-1)"
   ]
  },
  {
   "cell_type": "code",
   "execution_count": 9,
   "id": "df63114b-0445-4c51-8c40-0221cd71d463",
   "metadata": {
    "tags": []
   },
   "outputs": [
    {
     "data": {
      "text/plain": [
       "(False, True, True, True)"
      ]
     },
     "execution_count": 9,
     "metadata": {},
     "output_type": "execute_result"
    }
   ],
   "source": [
    "## str형\n",
    "bool(\"\"), bool(\" \"), bool(\"a\"), bool(\"b\")"
   ]
  },
  {
   "cell_type": "code",
   "execution_count": 10,
   "id": "eacf2faf-afca-4ef6-9fe2-9be82be1b2be",
   "metadata": {
    "tags": []
   },
   "outputs": [
    {
     "data": {
      "text/plain": [
       "(False, True, True)"
      ]
     },
     "execution_count": 10,
     "metadata": {},
     "output_type": "execute_result"
    }
   ],
   "source": [
    "## float형\n",
    "bool(0.0),bool(1.2), bool(-1.2)"
   ]
  },
  {
   "cell_type": "code",
   "execution_count": 12,
   "id": "38a67ed5-a140-49f6-aa5a-7af7c8f6f155",
   "metadata": {
    "tags": []
   },
   "outputs": [
    {
     "data": {
      "text/plain": [
       "(False, False, False, True, True)"
      ]
     },
     "execution_count": 12,
     "metadata": {},
     "output_type": "execute_result"
    }
   ],
   "source": [
    "### list, tuple, dict\n",
    "bool([]), bool(()), bool({}), bool([1]), bool([0])"
   ]
  },
  {
   "cell_type": "markdown",
   "id": "a2e47af4-f628-4bff-81a2-1a54139ed05e",
   "metadata": {
    "tags": []
   },
   "source": [
    "#### <span style=\"color:red; font-weight: bold\"> 삼항연산자 </span>"
   ]
  },
  {
   "cell_type": "markdown",
   "id": "32f12afd-ac71-46cf-b77f-8eae7c637725",
   "metadata": {},
   "source": [
    "- 간단한 if, else 구문을 한 줄의 코드로 표현할 수 있는 방법\n",
    "- (True) if (condition) else (False)"
   ]
  },
  {
   "cell_type": "code",
   "execution_count": 18,
   "id": "83099141-8cc1-485f-b9e7-26c3be7332c8",
   "metadata": {
    "tags": []
   },
   "outputs": [
    {
     "data": {
      "text/plain": [
       "'zero'"
      ]
     },
     "execution_count": 18,
     "metadata": {},
     "output_type": "execute_result"
    }
   ],
   "source": [
    "## 데이터 변수에 0이면 \"zero\"출력, 아니면 \"not zero\" 출력\n",
    "abc = 1\n",
    "\n",
    "result = \"zero\" if abc else \"not zero\"\n",
    "result"
   ]
  },
  {
   "cell_type": "code",
   "execution_count": null,
   "id": "49ee9668-6be5-4f32-b737-c635ab53fb2f",
   "metadata": {},
   "outputs": [],
   "source": []
  }
 ],
 "metadata": {
  "kernelspec": {
   "display_name": "Python 3 (ipykernel)",
   "language": "python",
   "name": "python3"
  },
  "language_info": {
   "codemirror_mode": {
    "name": "ipython",
    "version": 3
   },
   "file_extension": ".py",
   "mimetype": "text/x-python",
   "name": "python",
   "nbconvert_exporter": "python",
   "pygments_lexer": "ipython3",
   "version": "3.11.5"
  }
 },
 "nbformat": 4,
 "nbformat_minor": 5
}
