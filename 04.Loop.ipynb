{
 "cells": [
  {
   "cell_type": "markdown",
   "id": "9126a44b-ac1f-43ca-a7c7-cc24cbe092f2",
   "metadata": {},
   "source": [
    "## 04.반복문"
   ]
  },
  {
   "cell_type": "markdown",
   "id": "11f6e6b5-b758-4c81-9f6a-3d441fc0cfa6",
   "metadata": {},
   "source": [
    "- 반복되는 코드를 실행할 때 사용\n",
    "- while, for, break, continue\n",
    "- list comprehention"
   ]
  },
  {
   "cell_type": "markdown",
   "id": "bd62826f-bb74-4ddc-9f5f-e376ced5cac7",
   "metadata": {},
   "source": [
    "### 4.1 while"
   ]
  },
  {
   "cell_type": "markdown",
   "id": "9698007e-e44d-43ba-89f3-1bc0ce664e23",
   "metadata": {},
   "source": [
    "#### 4.1.1 예제1"
   ]
  },
  {
   "cell_type": "code",
   "execution_count": 3,
   "id": "983827a1-3c76-499b-a958-a81880033cea",
   "metadata": {
    "tags": []
   },
   "outputs": [
    {
     "name": "stdout",
     "output_type": "stream",
     "text": [
      "3\n",
      "2\n",
      "1\n"
     ]
    }
   ],
   "source": [
    "data = 3\n",
    "\n",
    "while data:\n",
    "    \n",
    "    print(data)\n",
    "    data -= 1"
   ]
  },
  {
   "cell_type": "markdown",
   "id": "67fc9546-a273-4175-b70b-0354e033ba08",
   "metadata": {},
   "source": [
    "#### 4.1.2 예제2"
   ]
  },
  {
   "cell_type": "code",
   "execution_count": null,
   "id": "6e55a497-cedd-4b73-b538-f451b5450e4e",
   "metadata": {},
   "outputs": [],
   "source": [
    "# 학생이 국어:80점, 영어:90점, 수학::100점 while문을 이용해서 총점과 평균을 출력\n",
    "# 학생의 점수는 list, dict표현\n",
    "# len(), dict.values(), list.pop()"
   ]
  },
  {
   "cell_type": "code",
   "execution_count": 47,
   "id": "b2df3da1-b07b-4002-9363-5b7174ce51f1",
   "metadata": {
    "tags": []
   },
   "outputs": [],
   "source": [
    "subjects_ls = [\"korean\",\"english\",\"math\"]\n",
    "points_ls = [80, 90, 100]\n",
    "points_dict = {\"korean\": 80, \"english\": 90, \"math\": 100}"
   ]
  },
  {
   "cell_type": "code",
   "execution_count": 48,
   "id": "860ce050-a22b-4c77-9e9a-bc8d5c170d7f",
   "metadata": {
    "tags": []
   },
   "outputs": [],
   "source": [
    "total, avg = 0, 0"
   ]
  },
  {
   "cell_type": "code",
   "execution_count": 49,
   "id": "03a3fb58-5961-43be-8188-8e1197654ead",
   "metadata": {
    "tags": []
   },
   "outputs": [],
   "source": [
    "datas = points_ls.copy() #깊은 복사"
   ]
  },
  {
   "cell_type": "code",
   "execution_count": 52,
   "id": "ff9823a8-e8d5-4e77-b3a9-cec670f71850",
   "metadata": {
    "tags": []
   },
   "outputs": [
    {
     "data": {
      "text/plain": [
       "(270, 90.0)"
      ]
     },
     "execution_count": 52,
     "metadata": {},
     "output_type": "execute_result"
    }
   ],
   "source": [
    "while datas:\n",
    "    total += datas.pop()\n",
    "    \n",
    "avg = total / len(points_ls)\n",
    "\n",
    "total, avg"
   ]
  },
  {
   "cell_type": "markdown",
   "id": "e0ff52d8-06ce-4f95-a844-39967c44e5f3",
   "metadata": {},
   "source": [
    "#### 4.1.3 예제3"
   ]
  },
  {
   "cell_type": "code",
   "execution_count": 56,
   "id": "95480815-fa11-45f3-8dfc-d184b6e48f68",
   "metadata": {
    "tags": []
   },
   "outputs": [],
   "source": [
    "# 무한루프"
   ]
  },
  {
   "cell_type": "code",
   "execution_count": 57,
   "id": "fe6cc641-57d2-4bbe-a402-c5f6d95349c3",
   "metadata": {
    "tags": []
   },
   "outputs": [
    {
     "name": "stdout",
     "output_type": "stream",
     "text": [
      "10\n"
     ]
    }
   ],
   "source": [
    "result = 1\n",
    "while result:\n",
    "    if result >= 10:\n",
    "        break\n",
    "    result += 1\n",
    "\n",
    "print(result)"
   ]
  },
  {
   "cell_type": "markdown",
   "id": "8f1b7f84-0ee9-47b1-b34a-8700a4a38d4a",
   "metadata": {},
   "source": [
    "### 4.2 for"
   ]
  },
  {
   "cell_type": "markdown",
   "id": "53d579d2-71b8-4b3a-9cc8-4d1600e131fe",
   "metadata": {},
   "source": [
    "- iterable한 값을 하나씩 꺼내서 variable을 대입시킨 후 코드를 interable 변수의 값 개수 만큼 실행 \n",
    "```\n",
    "for <variable> in <iterables>:\n",
    "    <code>\n",
    "```"
   ]
  },
  {
   "cell_type": "markdown",
   "id": "a647b759-e591-41de-a32e-1c96bd0b6e0f",
   "metadata": {},
   "source": [
    "#### 4.3.1 예제1 "
   ]
  },
  {
   "cell_type": "code",
   "execution_count": 5,
   "id": "f391e57f-7dde-4146-9ee0-479332ef3f68",
   "metadata": {
    "tags": []
   },
   "outputs": [
    {
     "name": "stdout",
     "output_type": "stream",
     "text": [
      "0 2 4 "
     ]
    }
   ],
   "source": [
    "ls = [0, 1, 2, 3, 4]\n",
    "\n",
    "for data in ls:\n",
    "    \n",
    "    if data % 2: #홀수가 되면 continue\n",
    "        continue\n",
    "        \n",
    "    print(data, end=\" \")"
   ]
  },
  {
   "cell_type": "markdown",
   "id": "aba6c753-cbe6-4f16-abef-c32b1212b1fc",
   "metadata": {},
   "source": [
    "#### 4.3.2 예제2"
   ]
  },
  {
   "cell_type": "code",
   "execution_count": 6,
   "id": "fbb1ebe1-3d11-471f-92cb-3fbf356767a8",
   "metadata": {
    "tags": []
   },
   "outputs": [
    {
     "data": {
      "text/plain": [
       "45"
      ]
     },
     "execution_count": 6,
     "metadata": {},
     "output_type": "execute_result"
    }
   ],
   "source": [
    "list(range(10))\n",
    "\n",
    "result = 0\n",
    "\n",
    "for data in range(10):\n",
    "    result += data\n",
    "result"
   ]
  },
  {
   "cell_type": "code",
   "execution_count": null,
   "id": "942d7607-7920-4b43-bc79-45102ebf41e6",
   "metadata": {},
   "outputs": [],
   "source": [
    "#offset index 개념과 비슷"
   ]
  },
  {
   "cell_type": "code",
   "execution_count": 9,
   "id": "f839473a-a5ee-4d67-89c8-ddb5de9ed30c",
   "metadata": {
    "tags": []
   },
   "outputs": [
    {
     "data": {
      "text/plain": [
       "([0, 1, 2, 3, 4], [5, 6, 7, 8, 9], [10, 8, 6, 4, 2])"
      ]
     },
     "execution_count": 9,
     "metadata": {},
     "output_type": "execute_result"
    }
   ],
   "source": [
    "list(range(5)), list(range(5, 10)), list(range(10, 0, -2))"
   ]
  },
  {
   "cell_type": "code",
   "execution_count": 10,
   "id": "a8e434a6-451f-4343-afef-1425657c00b3",
   "metadata": {
    "tags": []
   },
   "outputs": [],
   "source": [
    "# 0~10까지 짝수를 더한 총합"
   ]
  },
  {
   "cell_type": "code",
   "execution_count": 11,
   "id": "d04d31a7-b36d-4696-8299-3e5dc708ff4a",
   "metadata": {
    "tags": []
   },
   "outputs": [
    {
     "data": {
      "text/plain": [
       "30"
      ]
     },
     "execution_count": 11,
     "metadata": {},
     "output_type": "execute_result"
    }
   ],
   "source": [
    "result = 0 \n",
    "\n",
    "for number in range(0,11,2):\n",
    "    result += number\n",
    "result"
   ]
  },
  {
   "cell_type": "markdown",
   "id": "9b4e99e5-0f33-49b7-8d3d-cc583a31eea7",
   "metadata": {},
   "source": [
    "#### 4.3.3 예제3"
   ]
  },
  {
   "cell_type": "code",
   "execution_count": 14,
   "id": "c2e5ea06-49d3-4905-8e50-e7bb982bd343",
   "metadata": {
    "tags": []
   },
   "outputs": [
    {
     "data": {
      "text/plain": [
       "{'korean': 80, 'english': 90, 'math': 100}"
      ]
     },
     "execution_count": 14,
     "metadata": {},
     "output_type": "execute_result"
    }
   ],
   "source": [
    "points_dict = {\"korean\": 80, \"english\": 90, \"math\":100}\n",
    "points_dict"
   ]
  },
  {
   "cell_type": "code",
   "execution_count": 16,
   "id": "73148f2c-541d-4bd3-8284-290369937c72",
   "metadata": {
    "tags": []
   },
   "outputs": [
    {
     "data": {
      "text/plain": [
       "['korean', 'english', 'math']"
      ]
     },
     "execution_count": 16,
     "metadata": {},
     "output_type": "execute_result"
    }
   ],
   "source": [
    "list(points_dict.keys())"
   ]
  },
  {
   "cell_type": "code",
   "execution_count": 17,
   "id": "eda866cb-b7b1-405a-a700-2b0aa7a07f7a",
   "metadata": {
    "tags": []
   },
   "outputs": [
    {
     "data": {
      "text/plain": [
       "[('korean', 80), ('english', 90), ('math', 100)]"
      ]
     },
     "execution_count": 17,
     "metadata": {},
     "output_type": "execute_result"
    }
   ],
   "source": [
    "list(points_dict.items())"
   ]
  },
  {
   "cell_type": "code",
   "execution_count": 19,
   "id": "fd7e3501-8260-41ab-92cd-daf720844c3b",
   "metadata": {
    "tags": []
   },
   "outputs": [
    {
     "name": "stdout",
     "output_type": "stream",
     "text": [
      "korean 80\n",
      "english 90\n",
      "math 100\n"
     ]
    }
   ],
   "source": [
    "for subject, point in points_dict.items():\n",
    "    print(subject, point)"
   ]
  },
  {
   "cell_type": "markdown",
   "id": "0eac69e3-013d-43af-b1c4-3c6d7d128b2c",
   "metadata": {},
   "source": [
    "#### 4.2.4 예제4"
   ]
  },
  {
   "cell_type": "code",
   "execution_count": 21,
   "id": "47d335f9-0af4-4799-9533-5c675dc77ac8",
   "metadata": {
    "tags": []
   },
   "outputs": [],
   "source": [
    "# for문에서 iterable 데이터가 tupl로 나오면 여러개의 변수로 받을 수 있다."
   ]
  },
  {
   "cell_type": "code",
   "execution_count": 23,
   "id": "2f945858-97bd-478d-8201-8109f0a2b939",
   "metadata": {
    "tags": []
   },
   "outputs": [
    {
     "name": "stdout",
     "output_type": "stream",
     "text": [
      "korean 80\n",
      "english 90\n",
      "math 100\n"
     ]
    }
   ],
   "source": [
    "subject_ls = [\"korean\",\"english\",\"math\"]\n",
    "points_ls = [80, 90, 100]\n",
    "\n",
    "for subject, point in zip(subject_ls, points_ls):\n",
    "    print(subject,point)\n"
   ]
  },
  {
   "cell_type": "code",
   "execution_count": 24,
   "id": "8b403578-f315-4434-b5fb-737d7383da96",
   "metadata": {
    "tags": []
   },
   "outputs": [
    {
     "data": {
      "text/plain": [
       "[('korean', 80), ('english', 90), ('math', 100)]"
      ]
     },
     "execution_count": 24,
     "metadata": {},
     "output_type": "execute_result"
    }
   ],
   "source": [
    "list(zip(subject_ls, points_ls))"
   ]
  },
  {
   "cell_type": "markdown",
   "id": "2478d7b7-ac46-40ff-bb4f-39018ece95be",
   "metadata": {},
   "source": [
    "#### <span style=\"color:blue; font-weight: bold\"> 연습문제 </span>\n"
   ]
  },
  {
   "cell_type": "markdown",
   "id": "1e77232c-aff5-43f1-89e1-958b0e7c2aff",
   "metadata": {},
   "source": [
    "- 구구단 출력(가로 출력)\n",
    "    - 이중 for문: for문 안 for문\n",
    "    - print: end =\"\\t\"\n",
    "    - string: format 함수 이용\n",
    "```\n",
    "2*1=2  3*1=3 .... 9*1=9\n",
    "...\n",
    "2*9=18 3*9=27 ... 9*8=81\n",
    "```"
   ]
  },
  {
   "cell_type": "code",
   "execution_count": 59,
   "id": "2511ba89-3b93-4731-93b6-1f9a064f4ccf",
   "metadata": {
    "tags": []
   },
   "outputs": [
    {
     "name": "stdout",
     "output_type": "stream",
     "text": [
      "2*1=2\t3*1=3\t4*1=4\t5*1=5\t6*1=6\t7*1=7\t8*1=8\t9*1=9\t\n",
      "2*2=4\t3*2=6\t4*2=8\t5*2=10\t6*2=12\t7*2=14\t8*2=16\t9*2=18\t\n",
      "2*3=6\t3*3=9\t4*3=12\t5*3=15\t6*3=18\t7*3=21\t8*3=24\t9*3=27\t\n",
      "2*4=8\t3*4=12\t4*4=16\t5*4=20\t6*4=24\t7*4=28\t8*4=32\t9*4=36\t\n",
      "2*5=10\t3*5=15\t4*5=20\t5*5=25\t6*5=30\t7*5=35\t8*5=40\t9*5=45\t\n",
      "2*6=12\t3*6=18\t4*6=24\t5*6=30\t6*6=36\t7*6=42\t8*6=48\t9*6=54\t\n",
      "2*7=14\t3*7=21\t4*7=28\t5*7=35\t6*7=42\t7*7=49\t8*7=56\t9*7=63\t\n",
      "2*8=16\t3*8=24\t4*8=32\t5*8=40\t6*8=48\t7*8=56\t8*8=64\t9*8=72\t\n",
      "2*9=18\t3*9=27\t4*9=36\t5*9=45\t6*9=54\t7*9=63\t8*9=72\t9*9=81\t\n"
     ]
    }
   ],
   "source": [
    "for num2 in range(1, 10):\n",
    "    for num1 in range(2, 10):\n",
    "        print(\"{}*{}={}\".format(num1, num2, num1*num2), end=\"\\t\")\n",
    "    print()"
   ]
  },
  {
   "cell_type": "markdown",
   "id": "09298e51-3710-4d17-bbc8-f2bbd280f414",
   "metadata": {},
   "source": [
    "#### <span style=\"color:red; font-weight: bold\"> list comprehention </span>\n"
   ]
  },
  {
   "cell_type": "markdown",
   "id": "3adc86cf-2926-43ad-a9a3-2e3019765005",
   "metadata": {},
   "source": [
    "- 리스트 데이터를 만들어주는 방법\n",
    "- for문 보다 빠르게 동작"
   ]
  },
  {
   "cell_type": "markdown",
   "id": "41f73e3a-2edc-45cd-a420-550a9a5a640a",
   "metadata": {},
   "source": [
    "#### 4.2.5 예제5"
   ]
  },
  {
   "cell_type": "code",
   "execution_count": 29,
   "id": "e747bbb5-0040-4f6f-9fd8-6bee33a2c0dc",
   "metadata": {
    "tags": []
   },
   "outputs": [],
   "source": [
    "# 각각 값에 제곱한 결과 "
   ]
  },
  {
   "cell_type": "code",
   "execution_count": 30,
   "id": "1405c5f7-1566-442e-aa7e-64c9942109ff",
   "metadata": {
    "tags": []
   },
   "outputs": [
    {
     "data": {
      "text/plain": [
       "[1, 4, 9, 16]"
      ]
     },
     "execution_count": 30,
     "metadata": {},
     "output_type": "execute_result"
    }
   ],
   "source": [
    "ls = [1,2,3,4]\n",
    "result = []\n",
    "\n",
    "for data in ls:\n",
    "    result.append(data**2)\n",
    "\n",
    "result"
   ]
  },
  {
   "cell_type": "code",
   "execution_count": 31,
   "id": "858149c1-cb9f-4624-9896-5eed4e2977ce",
   "metadata": {
    "tags": []
   },
   "outputs": [
    {
     "data": {
      "text/plain": [
       "[1, 4, 9, 16]"
      ]
     },
     "execution_count": 31,
     "metadata": {},
     "output_type": "execute_result"
    }
   ],
   "source": [
    "# list comprehention\n",
    "result = [data**2 for data in ls]\n",
    "result"
   ]
  },
  {
   "cell_type": "markdown",
   "id": "5880de25-8c71-4f3e-9128-6e1b563b5575",
   "metadata": {},
   "source": [
    "### 4.2.6 예제6"
   ]
  },
  {
   "cell_type": "code",
   "execution_count": 33,
   "id": "f432a66d-d546-41ab-acb4-0a421bda63f1",
   "metadata": {
    "tags": []
   },
   "outputs": [],
   "source": [
    "#리스트 컴프리헨셔을 써서 홀수와 짝수를 리스트로 출력해주는 코드\n",
    "#삼항연산 사용"
   ]
  },
  {
   "cell_type": "code",
   "execution_count": 35,
   "id": "496866d0-880b-4300-8c6f-f8a291e51fd3",
   "metadata": {
    "tags": []
   },
   "outputs": [
    {
     "data": {
      "text/plain": [
       "['홀수', '짝수', '홀수', '짝수', '홀수']"
      ]
     },
     "execution_count": 35,
     "metadata": {},
     "output_type": "execute_result"
    }
   ],
   "source": [
    "ls = [1,2,3,4,5]\n",
    "\n",
    "result = [\n",
    "    \"홀수\" if data % 2 else \"짝수\"\n",
    "    for data in ls \n",
    "\n",
    "]\n",
    "result"
   ]
  },
  {
   "cell_type": "code",
   "execution_count": 36,
   "id": "cfa002f5-e6b8-4a30-9ce4-bd55b527f3bd",
   "metadata": {
    "tags": []
   },
   "outputs": [],
   "source": [
    "#리스트 컴프리헨션 조건문"
   ]
  },
  {
   "cell_type": "code",
   "execution_count": 37,
   "id": "888c0cf4-210e-4c00-b809-ed062cfe8c8d",
   "metadata": {
    "tags": []
   },
   "outputs": [
    {
     "data": {
      "text/plain": [
       "[1, 3, 5, 7, 9]"
      ]
     },
     "execution_count": 37,
     "metadata": {},
     "output_type": "execute_result"
    }
   ],
   "source": [
    "ls = range(10)\n",
    "[data for data in ls if data % 2]"
   ]
  },
  {
   "cell_type": "code",
   "execution_count": 38,
   "id": "5de31b99-bb0c-4c2a-a896-561e2c9679e4",
   "metadata": {
    "tags": []
   },
   "outputs": [
    {
     "data": {
      "text/plain": [
       "['clear', 'copy', 'count']"
      ]
     },
     "execution_count": 38,
     "metadata": {},
     "output_type": "execute_result"
    }
   ],
   "source": [
    "ls = [1, 2, 3]\n",
    "\n",
    "[func for func in dir(ls) if func[:2] and func[0] == \"c\"]"
   ]
  },
  {
   "cell_type": "code",
   "execution_count": 40,
   "id": "870bd572-02b1-4837-9d45-29879e370ac7",
   "metadata": {
    "tags": []
   },
   "outputs": [],
   "source": [
    "# for문 vs list comprehention 비교"
   ]
  },
  {
   "cell_type": "code",
   "execution_count": 41,
   "id": "df30a8d4-a398-4396-b1e0-3ae5fb148ed1",
   "metadata": {
    "tags": []
   },
   "outputs": [
    {
     "name": "stdout",
     "output_type": "stream",
     "text": [
      "367 µs ± 328 ns per loop (mean ± std. dev. of 7 runs, 1,000 loops each)\n"
     ]
    }
   ],
   "source": [
    "%%timeit\n",
    "ls = []\n",
    "for num in range(1, 10001):\n",
    "    if num % 3 == 0:\n",
    "        ls.append(num)\n",
    "\n",
    "len(ls)"
   ]
  },
  {
   "cell_type": "code",
   "execution_count": 42,
   "id": "bef8ff10-dd66-4f2a-b25a-113b04345d85",
   "metadata": {
    "tags": []
   },
   "outputs": [
    {
     "name": "stdout",
     "output_type": "stream",
     "text": [
      "310 µs ± 435 ns per loop (mean ± std. dev. of 7 runs, 1,000 loops each)\n"
     ]
    }
   ],
   "source": [
    "%%timeit\n",
    "ls = [num for num in range(1, 10001) if num % 3 == 0]"
   ]
  },
  {
   "cell_type": "code",
   "execution_count": 44,
   "id": "96e8f80e-5cef-4b03-9560-e9855fbf12fd",
   "metadata": {
    "tags": []
   },
   "outputs": [
    {
     "data": {
      "text/plain": [
       "[0, 1, 2, 3, 4, 5, 6, 7, 8, 9]"
      ]
     },
     "execution_count": 44,
     "metadata": {},
     "output_type": "execute_result"
    }
   ],
   "source": [
    "result =[]\n",
    "for a in range(10):\n",
    "    result.append(a)\n",
    "result"
   ]
  },
  {
   "cell_type": "code",
   "execution_count": 45,
   "id": "fe2fa84c-570a-4bdb-9616-3e83bae08183",
   "metadata": {
    "tags": []
   },
   "outputs": [
    {
     "data": {
      "text/plain": [
       "[0, 1, 2, 3, 4, 5, 6, 7, 8, 9]"
      ]
     },
     "execution_count": 45,
     "metadata": {},
     "output_type": "execute_result"
    }
   ],
   "source": [
    "result = [ a for a in range(10) ]\n",
    "result"
   ]
  },
  {
   "cell_type": "code",
   "execution_count": null,
   "id": "42e1bbd0-0fe2-4bad-987a-6463f5a5195e",
   "metadata": {},
   "outputs": [],
   "source": []
  }
 ],
 "metadata": {
  "kernelspec": {
   "display_name": "Python 3 (ipykernel)",
   "language": "python",
   "name": "python3"
  },
  "language_info": {
   "codemirror_mode": {
    "name": "ipython",
    "version": 3
   },
   "file_extension": ".py",
   "mimetype": "text/x-python",
   "name": "python",
   "nbconvert_exporter": "python",
   "pygments_lexer": "ipython3",
   "version": "3.11.5"
  }
 },
 "nbformat": 4,
 "nbformat_minor": 5
}
